{
  "nbformat": 4,
  "nbformat_minor": 0,
  "metadata": {
    "kernelspec": {
      "display_name": "Python 3",
      "language": "python",
      "name": "python3"
    },
    "language_info": {
      "codemirror_mode": {
        "name": "ipython",
        "version": 3
      },
      "file_extension": ".py",
      "mimetype": "text/x-python",
      "name": "python",
      "nbconvert_exporter": "python",
      "pygments_lexer": "ipython3",
      "version": "3.6.9"
    },
    "colab": {
      "name": "FIFA_new_code.ipynb",
      "provenance": [],
      "include_colab_link": true
    }
  },
  "cells": [
    {
      "cell_type": "markdown",
      "metadata": {
        "id": "view-in-github",
        "colab_type": "text"
      },
      "source": [
        "<a href=\"https://colab.research.google.com/github/vigneshjayanth00/Football/blob/master/FIFA_new_code.ipynb\" target=\"_parent\"><img src=\"https://colab.research.google.com/assets/colab-badge.svg\" alt=\"Open In Colab\"/></a>"
      ]
    },
    {
      "cell_type": "code",
      "metadata": {
        "id": "LsvNwI9b7x8R",
        "colab_type": "code",
        "colab": {},
        "outputId": "09155580-fc22-4e91-8a5d-83f966f34001"
      },
      "source": [
        "import numpy as np\n",
        "import pandas as pd\n",
        "from IPython.display import Markdown\n",
        "from scipy import stats\n",
        "\n",
        "'''Seaborn and Matplotlib Visualization'''\n",
        "import matplotlib.pyplot as plt\n",
        "import seaborn as sns\n",
        "plt.style.use('bmh')                    \n",
        "%matplotlib inline\n",
        "from DataFrameImputer import DataFrameImputer\n",
        "'''plotly Visualization'''\n",
        "import plotly.offline as py\n",
        "from plotly.offline import iplot, init_notebook_mode\n",
        "import plotly.graph_objs as go\n",
        "init_notebook_mode(connected = True)\n",
        "from sklearn.base import TransformerMixin\n",
        "%time\n",
        "\n",
        "from sklearn.impute import KNNImputer as knn_impute\n",
        "import pandas as pd\n",
        "import glob\n"
      ],
      "execution_count": 0,
      "outputs": [
        {
          "output_type": "display_data",
          "data": {
            "text/html": [
              "        <script type=\"text/javascript\">\n",
              "        window.PlotlyConfig = {MathJaxConfig: 'local'};\n",
              "        if (window.MathJax) {MathJax.Hub.Config({SVG: {font: \"STIX-Web\"}});}\n",
              "        if (typeof require !== 'undefined') {\n",
              "        require.undef(\"plotly\");\n",
              "        requirejs.config({\n",
              "            paths: {\n",
              "                'plotly': ['https://cdn.plot.ly/plotly-latest.min']\n",
              "            }\n",
              "        });\n",
              "        require(['plotly'], function(Plotly) {\n",
              "            window._Plotly = Plotly;\n",
              "        });\n",
              "        }\n",
              "        </script>\n",
              "        "
            ]
          },
          "metadata": {
            "tags": []
          }
        },
        {
          "output_type": "stream",
          "text": [
            "Wall time: 0 ns\n"
          ],
          "name": "stdout"
        }
      ]
    },
    {
      "cell_type": "code",
      "metadata": {
        "id": "CVA00uof7x8Y",
        "colab_type": "code",
        "colab": {},
        "outputId": "ac5aaf40-1a8b-4183-8777-bd600defa7af"
      },
      "source": [
        "import os\n",
        "\n",
        "path = r'C:\\Users\\Home\\Downloads\\All Fifa Datasets\\Datasets' # use your path\n",
        "all_files = glob.glob(path + \"/*.csv\")\n",
        "\n",
        "li = []\n",
        "\n",
        "for filename in all_files:\n",
        "    df = pd.read_csv(filename, index_col=None, header=0)\n",
        "    df['Year'] = os.path.basename(filename)\n",
        "    li.append(df)\n",
        "\n",
        "df_combined = pd.concat(li, axis=0, ignore_index=True)\n",
        "\n",
        "display(print('Dimension of data:', df_combined.shape))"
      ],
      "execution_count": 0,
      "outputs": [
        {
          "output_type": "stream",
          "text": [
            "Dimension of data: (100995, 105)\n"
          ],
          "name": "stdout"
        },
        {
          "output_type": "display_data",
          "data": {
            "text/plain": [
              "None"
            ]
          },
          "metadata": {
            "tags": []
          }
        }
      ]
    },
    {
      "cell_type": "code",
      "metadata": {
        "id": "hIXtzXuf7x8c",
        "colab_type": "code",
        "colab": {},
        "outputId": "8e440d1a-54d5-49d9-ea17-4d8a5a184202"
      },
      "source": [
        "df_combined.Year=df_combined.Year.str[:4]\n",
        "df_combined.Year.unique()"
      ],
      "execution_count": 0,
      "outputs": [
        {
          "output_type": "execute_result",
          "data": {
            "text/plain": [
              "array(['2015', '2016', '2017', '2018', '2019', '2020'], dtype=object)"
            ]
          },
          "metadata": {
            "tags": []
          },
          "execution_count": 40
        }
      ]
    },
    {
      "cell_type": "code",
      "metadata": {
        "id": "uzVCUuq-7x8k",
        "colab_type": "code",
        "colab": {},
        "outputId": "97e8a7e0-4bba-4289-fab6-ef1abd1deda5"
      },
      "source": [
        "Goalkeeper_cols=list(df_combined.filter(regex='gk').columns)\n",
        "Goalkeeper_cols\n"
      ],
      "execution_count": 0,
      "outputs": [
        {
          "output_type": "execute_result",
          "data": {
            "text/plain": [
              "['gk_diving',\n",
              " 'gk_handling',\n",
              " 'gk_kicking',\n",
              " 'gk_reflexes',\n",
              " 'gk_speed',\n",
              " 'gk_positioning']"
            ]
          },
          "metadata": {
            "tags": []
          },
          "execution_count": 48
        }
      ]
    },
    {
      "cell_type": "code",
      "metadata": {
        "id": "1XAgV7wL7x8n",
        "colab_type": "code",
        "colab": {},
        "outputId": "5b5f53fd-533e-4f0d-b1db-0f6a247a64bf"
      },
      "source": [
        "df_combined.info()"
      ],
      "execution_count": 0,
      "outputs": [
        {
          "output_type": "stream",
          "text": [
            "<class 'pandas.core.frame.DataFrame'>\n",
            "RangeIndex: 100995 entries, 0 to 100994\n",
            "Columns: 105 entries, sofifa_id to Year\n",
            "dtypes: float64(16), int64(11), object(78)\n",
            "memory usage: 80.9+ MB\n"
          ],
          "name": "stdout"
        }
      ]
    },
    {
      "cell_type": "code",
      "metadata": {
        "id": "SSaDG41k7x8s",
        "colab_type": "code",
        "colab": {},
        "outputId": "adf56064-4209-4be7-ed21-c2c48c954e97"
      },
      "source": [
        "#Impute missing values\n",
        "df_combined= DataFrameImputer().fit_transform(df_combined)\n",
        "df_combined.team_position.unique()"
      ],
      "execution_count": 0,
      "outputs": [
        {
          "output_type": "execute_result",
          "data": {
            "text/plain": [
              "array(['CF', 'LW', 'SUB', 'ST', 'GK', 'RES', 'LM', 'RS', 'RW', 'LS',\n",
              "       'RCM', 'LCB', 'CAM', 'LCM', 'LDM', 'RCB', 'CM', 'CDM', 'CB', 'RDM',\n",
              "       'RB', 'RM', 'LB', 'RAM', 'LAM', 'RWB', 'RF', 'LF', 'LWB'],\n",
              "      dtype=object)"
            ]
          },
          "metadata": {
            "tags": []
          },
          "execution_count": 42
        }
      ]
    },
    {
      "cell_type": "code",
      "metadata": {
        "id": "zq2MQQFm7x8w",
        "colab_type": "code",
        "colab": {},
        "outputId": "1cade751-7f29-4044-deed-2cf3c399c8b0"
      },
      "source": [
        "#Checking which columns are of different dtype\n",
        "\n",
        "float_df=df_combined.loc[:, df_combined.dtypes == np.float64]\n",
        "int_df=df_combined.loc[:, df_combined.dtypes == np.int64]\n",
        "string_df=df_combined.loc[:, df_combined.dtypes == np.object]\n",
        "int_df.columns"
      ],
      "execution_count": 0,
      "outputs": [
        {
          "output_type": "execute_result",
          "data": {
            "text/plain": [
              "Index(['sofifa_id', 'age', 'height_cm', 'weight_kg', 'overall', 'potential',\n",
              "       'value_eur', 'wage_eur', 'international_reputation', 'weak_foot',\n",
              "       'skill_moves'],\n",
              "      dtype='object')"
            ]
          },
          "metadata": {
            "tags": []
          },
          "execution_count": 43
        }
      ]
    },
    {
      "cell_type": "code",
      "metadata": {
        "id": "vzrZMynO7x81",
        "colab_type": "code",
        "colab": {},
        "outputId": "69ae2f2d-e542-4ee5-e3e7-a15af2e738f9"
      },
      "source": [
        "#Iterating through the dataframe to check unique values across columns with different dtypes\n",
        "A=[]\n",
        "B=[]\n",
        "C=[]\n",
        "D=[]\n",
        "E=[]\n",
        "F=[]\n",
        "\n",
        "for col in float_df:\n",
        "    A.append(col)\n",
        "    B.append(float_df[col].unique())\n",
        "    \n",
        "for col in string_df:\n",
        "    C.append(col)\n",
        "    D.append(string_df[col].unique())\n",
        "\n",
        "for col in int_df:\n",
        "    E.append(col)\n",
        "    F.append(int_df[col].unique())\n",
        "    \n",
        "Unique_float_df_summary = pd.DataFrame(\n",
        "    {'Column_Name': A,\n",
        "     'Unique_Values': B\n",
        "    })\n",
        "Unique_string_df_summary = pd.DataFrame(\n",
        "    {'Column_Name': C,\n",
        "     'Unique_Values': D\n",
        "    })\n",
        "Unique_int_df_summary = pd.DataFrame(\n",
        "    {'Column_Name': E,\n",
        "     'Unique_Values': F\n",
        "    })\n",
        "Unique_float_df_summary.to_csv(r'C:\\Users\\Home\\Downloads\\All Fifa Datasets\\Data Cleaning\\Unique_float_df_summary.csv')\n",
        "Unique_string_df_summary.to_csv(r'C:\\Users\\Home\\Downloads\\All Fifa Datasets\\Data Cleaning\\Unique_string_df_summary.csv')\n",
        "Unique_int_df_summary.to_csv(r'C:\\Users\\Home\\Downloads\\All Fifa Datasets\\Data Cleaning\\Unique_int_df_summary.csv')\n",
        "\n",
        "Unique_string_df_summary"
      ],
      "execution_count": 0,
      "outputs": [
        {
          "output_type": "execute_result",
          "data": {
            "text/html": [
              "<div>\n",
              "<style scoped>\n",
              "    .dataframe tbody tr th:only-of-type {\n",
              "        vertical-align: middle;\n",
              "    }\n",
              "\n",
              "    .dataframe tbody tr th {\n",
              "        vertical-align: top;\n",
              "    }\n",
              "\n",
              "    .dataframe thead th {\n",
              "        text-align: right;\n",
              "    }\n",
              "</style>\n",
              "<table border=\"1\" class=\"dataframe\">\n",
              "  <thead>\n",
              "    <tr style=\"text-align: right;\">\n",
              "      <th></th>\n",
              "      <th>Column_Name</th>\n",
              "      <th>Unique_Values</th>\n",
              "    </tr>\n",
              "  </thead>\n",
              "  <tbody>\n",
              "    <tr>\n",
              "      <th>0</th>\n",
              "      <td>player_url</td>\n",
              "      <td>[https://sofifa.com/player/158023/lionel-messi...</td>\n",
              "    </tr>\n",
              "    <tr>\n",
              "      <th>1</th>\n",
              "      <td>short_name</td>\n",
              "      <td>[L. Messi, Cristiano Ronaldo, A. Robben, Z. Ib...</td>\n",
              "    </tr>\n",
              "    <tr>\n",
              "      <th>2</th>\n",
              "      <td>long_name</td>\n",
              "      <td>[Lionel Andrés Messi Cuccittini, Cristiano Ron...</td>\n",
              "    </tr>\n",
              "    <tr>\n",
              "      <th>3</th>\n",
              "      <td>dob</td>\n",
              "      <td>[1987-06-24, 1985-02-05, 1984-01-23, 1981-10-0...</td>\n",
              "    </tr>\n",
              "    <tr>\n",
              "      <th>4</th>\n",
              "      <td>nationality</td>\n",
              "      <td>[Argentina, Portugal, Netherlands, Sweden, Ger...</td>\n",
              "    </tr>\n",
              "    <tr>\n",
              "      <th>...</th>\n",
              "      <td>...</td>\n",
              "      <td>...</td>\n",
              "    </tr>\n",
              "    <tr>\n",
              "      <th>73</th>\n",
              "      <td>lcb</td>\n",
              "      <td>[45+3, 52+3, 46+3, 55+3, 63+2, 57+3, 46+2, 48+...</td>\n",
              "    </tr>\n",
              "    <tr>\n",
              "      <th>74</th>\n",
              "      <td>cb</td>\n",
              "      <td>[45+3, 52+3, 46+3, 55+3, 63+2, 57+3, 46+2, 48+...</td>\n",
              "    </tr>\n",
              "    <tr>\n",
              "      <th>75</th>\n",
              "      <td>rcb</td>\n",
              "      <td>[45+3, 52+3, 46+3, 55+3, 63+2, 57+3, 46+2, 48+...</td>\n",
              "    </tr>\n",
              "    <tr>\n",
              "      <th>76</th>\n",
              "      <td>rb</td>\n",
              "      <td>[54+3, 57+3, 55+3, 56+3, 61+2, 62+3, 54+2, 81+...</td>\n",
              "    </tr>\n",
              "    <tr>\n",
              "      <th>77</th>\n",
              "      <td>Year</td>\n",
              "      <td>[2015, 2016, 2017, 2018, 2019, 2020]</td>\n",
              "    </tr>\n",
              "  </tbody>\n",
              "</table>\n",
              "<p>78 rows × 2 columns</p>\n",
              "</div>"
            ],
            "text/plain": [
              "    Column_Name                                      Unique_Values\n",
              "0    player_url  [https://sofifa.com/player/158023/lionel-messi...\n",
              "1    short_name  [L. Messi, Cristiano Ronaldo, A. Robben, Z. Ib...\n",
              "2     long_name  [Lionel Andrés Messi Cuccittini, Cristiano Ron...\n",
              "3           dob  [1987-06-24, 1985-02-05, 1984-01-23, 1981-10-0...\n",
              "4   nationality  [Argentina, Portugal, Netherlands, Sweden, Ger...\n",
              "..          ...                                                ...\n",
              "73          lcb  [45+3, 52+3, 46+3, 55+3, 63+2, 57+3, 46+2, 48+...\n",
              "74           cb  [45+3, 52+3, 46+3, 55+3, 63+2, 57+3, 46+2, 48+...\n",
              "75          rcb  [45+3, 52+3, 46+3, 55+3, 63+2, 57+3, 46+2, 48+...\n",
              "76           rb  [54+3, 57+3, 55+3, 56+3, 61+2, 62+3, 54+2, 81+...\n",
              "77         Year               [2015, 2016, 2017, 2018, 2019, 2020]\n",
              "\n",
              "[78 rows x 2 columns]"
            ]
          },
          "metadata": {
            "tags": []
          },
          "execution_count": 46
        }
      ]
    },
    {
      "cell_type": "code",
      "metadata": {
        "id": "n97BKmmn7x86",
        "colab_type": "code",
        "colab": {}
      },
      "source": [
        "df_combined1=df_combined\n",
        "df_combined1=df_combined1.sort_values(['value_eur'], ascending=[False])"
      ],
      "execution_count": 0,
      "outputs": []
    },
    {
      "cell_type": "code",
      "metadata": {
        "id": "NixLO3go7x8-",
        "colab_type": "code",
        "colab": {}
      },
      "source": [
        "#These columns need to be removed as they are either related to GK stats or irrelevant information for modelling\n",
        "Remove_Columns=['sofifa_id','player_url','long_name','dob','real_face','player_tags','team_jersey_number',\n",
        "'loaned_from','joined','nation_position','nation_jersey_number','player_traits','goalkeeping_diving','goalkeeping_handling','goalkeeping_kicking',\n",
        "'goalkeeping_positioning','goalkeeping_reflexes','gk_diving', 'gk_handling','gk_kicking', 'gk_reflexes', 'gk_speed', 'gk_positioning',\n",
        "                'contract_valid_until','release_clause_eur','player_positions']\n",
        "\n",
        "df_combined1.drop(Remove_Columns, axis=1, inplace=True)"
      ],
      "execution_count": 0,
      "outputs": []
    },
    {
      "cell_type": "code",
      "metadata": {
        "id": "Hp61-uo27x9B",
        "colab_type": "code",
        "colab": {}
      },
      "source": [
        "#These columns have numbers stored as strings with an added number such as '93+2'\n",
        "String_Columns1=['ls','st','rs','lw','lf','cf','rf','rw','lam','cam','ram','lm','lcm','cm','rcm','rm',\n",
        "                'lwb','ldm','cdm','rdm','rwb','lb','lcb','cb','rcb','rb']\n",
        "\n",
        "for col in String_Columns1:\n",
        "    df_combined1[col] = df_combined1[col].str[:2]\n",
        "    df_combined1[col] = df_combined1[col].astype(int)\n"
      ],
      "execution_count": 0,
      "outputs": []
    },
    {
      "cell_type": "code",
      "metadata": {
        "id": "u9w4cGRB7x9F",
        "colab_type": "code",
        "colab": {}
      },
      "source": [
        "#These columns have hypenated numbers stored as strings such as '6-'\n",
        "String_Columns=['attacking_crossing','attacking_finishing','attacking_heading_accuracy','attacking_short_passing',\n",
        "'attacking_volleys','skill_dribbling','skill_curve','skill_fk_accuracy','skill_long_passing',\n",
        "'skill_ball_control','movement_acceleration','movement_sprint_speed','movement_agility',\n",
        "'movement_reactions','movement_balance','power_shot_power','power_jumping','power_stamina',\n",
        "'power_strength','power_long_shots','mentality_aggression','mentality_interceptions','mentality_positioning',\n",
        "'mentality_vision','mentality_penalties','mentality_composure','defending_marking','defending_standing_tackle',\n",
        "'defending_sliding_tackle']\n",
        "\n",
        "for col in String_Columns:\n",
        "    df_combined1[col] = df_combined1[col].replace('\\-', '', regex=True)\n",
        "    df_combined1[col] = df_combined1[col].replace('\\+', '', regex=True)\n",
        "    df_combined1[col] = df_combined1[col].str[:2]\n",
        "    df_combined1[col] = df_combined1[col].fillna(0).astype(int).replace(to_replace=0, method='ffill')"
      ],
      "execution_count": 0,
      "outputs": []
    },
    {
      "cell_type": "code",
      "metadata": {
        "id": "78FC7pa37x9I",
        "colab_type": "code",
        "colab": {}
      },
      "source": [
        "df_combined1=df_combined1.reset_index(drop=True)\n"
      ],
      "execution_count": 0,
      "outputs": []
    },
    {
      "cell_type": "code",
      "metadata": {
        "id": "Gxf9oXYM7x9L",
        "colab_type": "code",
        "colab": {},
        "outputId": "ec4b734a-fcb7-41f5-90ed-0576b8be7cc5"
      },
      "source": [
        "df_combined2=df_combined1[df_combined1['team_position']!='GK']\n",
        "\n",
        "df_combined2.info()"
      ],
      "execution_count": 0,
      "outputs": [
        {
          "output_type": "stream",
          "text": [
            "<class 'pandas.core.frame.DataFrame'>\n",
            "Int64Index: 97339 entries, 0 to 100994\n",
            "Data columns (total 79 columns):\n",
            "short_name                    97339 non-null object\n",
            "age                           97339 non-null int64\n",
            "height_cm                     97339 non-null int64\n",
            "weight_kg                     97339 non-null int64\n",
            "nationality                   97339 non-null object\n",
            "club                          97339 non-null object\n",
            "overall                       97339 non-null int64\n",
            "potential                     97339 non-null int64\n",
            "value_eur                     97339 non-null int64\n",
            "wage_eur                      97339 non-null int64\n",
            "preferred_foot                97339 non-null object\n",
            "international_reputation      97339 non-null int64\n",
            "weak_foot                     97339 non-null int64\n",
            "skill_moves                   97339 non-null int64\n",
            "work_rate                     97339 non-null object\n",
            "body_type                     97339 non-null object\n",
            "team_position                 97339 non-null object\n",
            "pace                          97339 non-null float64\n",
            "shooting                      97339 non-null float64\n",
            "passing                       97339 non-null float64\n",
            "dribbling                     97339 non-null float64\n",
            "defending                     97339 non-null float64\n",
            "physic                        97339 non-null float64\n",
            "attacking_crossing            97339 non-null int32\n",
            "attacking_finishing           97339 non-null int32\n",
            "attacking_heading_accuracy    97339 non-null int32\n",
            "attacking_short_passing       97339 non-null int32\n",
            "attacking_volleys             97339 non-null int32\n",
            "skill_dribbling               97339 non-null int32\n",
            "skill_curve                   97339 non-null int32\n",
            "skill_fk_accuracy             97339 non-null int32\n",
            "skill_long_passing            97339 non-null int32\n",
            "skill_ball_control            97339 non-null int32\n",
            "movement_acceleration         97339 non-null int32\n",
            "movement_sprint_speed         97339 non-null int32\n",
            "movement_agility              97339 non-null int32\n",
            "movement_reactions            97339 non-null int32\n",
            "movement_balance              97339 non-null int32\n",
            "power_shot_power              97339 non-null int32\n",
            "power_jumping                 97339 non-null int32\n",
            "power_stamina                 97339 non-null int32\n",
            "power_strength                97339 non-null int32\n",
            "power_long_shots              97339 non-null int32\n",
            "mentality_aggression          97339 non-null int32\n",
            "mentality_interceptions       97339 non-null int32\n",
            "mentality_positioning         97339 non-null int32\n",
            "mentality_vision              97339 non-null int32\n",
            "mentality_penalties           97339 non-null int32\n",
            "mentality_composure           97339 non-null int32\n",
            "defending_marking             97339 non-null int32\n",
            "defending_standing_tackle     97339 non-null int32\n",
            "defending_sliding_tackle      97339 non-null int32\n",
            "ls                            97339 non-null int32\n",
            "st                            97339 non-null int32\n",
            "rs                            97339 non-null int32\n",
            "lw                            97339 non-null int32\n",
            "lf                            97339 non-null int32\n",
            "cf                            97339 non-null int32\n",
            "rf                            97339 non-null int32\n",
            "rw                            97339 non-null int32\n",
            "lam                           97339 non-null int32\n",
            "cam                           97339 non-null int32\n",
            "ram                           97339 non-null int32\n",
            "lm                            97339 non-null int32\n",
            "lcm                           97339 non-null int32\n",
            "cm                            97339 non-null int32\n",
            "rcm                           97339 non-null int32\n",
            "rm                            97339 non-null int32\n",
            "lwb                           97339 non-null int32\n",
            "ldm                           97339 non-null int32\n",
            "cdm                           97339 non-null int32\n",
            "rdm                           97339 non-null int32\n",
            "rwb                           97339 non-null int32\n",
            "lb                            97339 non-null int32\n",
            "lcb                           97339 non-null int32\n",
            "cb                            97339 non-null int32\n",
            "rcb                           97339 non-null int32\n",
            "rb                            97339 non-null int32\n",
            "Year                          97339 non-null object\n",
            "dtypes: float64(6), int32(55), int64(10), object(8)\n",
            "memory usage: 39.0+ MB\n"
          ],
          "name": "stdout"
        }
      ]
    },
    {
      "cell_type": "code",
      "metadata": {
        "id": "3T4fOQXp7x9O",
        "colab_type": "code",
        "colab": {},
        "outputId": "9a9cb507-0a09-4272-dee3-c556de2cf2fe"
      },
      "source": [
        "df_combined2.overall.unique()"
      ],
      "execution_count": 0,
      "outputs": [
        {
          "output_type": "execute_result",
          "data": {
            "text/plain": [
              "array([92, 94, 93, 91, 89, 90, 88, 87, 86, 85, 84, 83, 82, 81, 80, 79, 77,\n",
              "       78, 76, 75, 74, 73, 72, 71, 70, 69, 68, 67, 66, 65, 64, 63, 62, 61,\n",
              "       60, 59, 58, 57, 56, 55, 54, 53, 52, 51, 49, 48, 50, 47, 46, 45, 44,\n",
              "       40, 41, 42, 43], dtype=int64)"
            ]
          },
          "metadata": {
            "tags": []
          },
          "execution_count": 31
        }
      ]
    },
    {
      "cell_type": "code",
      "metadata": {
        "id": "n3ArtPpv7x9S",
        "colab_type": "code",
        "colab": {}
      },
      "source": [
        "A=[]\n",
        "B=[]\n",
        "\n",
        "for col in df_combined2:\n",
        "    A.append(col)\n",
        "    B.append(df_combined2[col].unique())\n",
        "    \n",
        "Unique_values_summary = pd.DataFrame(\n",
        "    {'Column_Name': A,\n",
        "     'Unique_Values': B\n",
        "    })"
      ],
      "execution_count": 0,
      "outputs": []
    },
    {
      "cell_type": "code",
      "metadata": {
        "id": "3wXrUBq57x9V",
        "colab_type": "code",
        "colab": {}
      },
      "source": [
        "Unique_values_summary.to_csv(r'C:\\Users\\Home\\Downloads\\All Fifa Datasets\\Data Cleaning\\Unique_values_summary.csv')"
      ],
      "execution_count": 0,
      "outputs": []
    },
    {
      "cell_type": "code",
      "metadata": {
        "id": "y9piQT_97x9Y",
        "colab_type": "code",
        "colab": {},
        "outputId": "5370ded6-f0b6-4c8e-aa44-937b2f03b036"
      },
      "source": [
        "float_cols=['pace','shooting','passing','dribbling','defending','physic']\n",
        "\n",
        "for col in float_cols:\n",
        "    df_combined2[col] = round(df_combined2[col]).astype(int)\n",
        "    \n",
        "    "
      ],
      "execution_count": 0,
      "outputs": [
        {
          "output_type": "stream",
          "text": [
            "C:\\Users\\Home\\Anaconda3\\envs\\venv\\lib\\site-packages\\ipykernel_launcher.py:4: SettingWithCopyWarning:\n",
            "\n",
            "\n",
            "A value is trying to be set on a copy of a slice from a DataFrame.\n",
            "Try using .loc[row_indexer,col_indexer] = value instead\n",
            "\n",
            "See the caveats in the documentation: http://pandas.pydata.org/pandas-docs/stable/user_guide/indexing.html#returning-a-view-versus-a-copy\n",
            "\n"
          ],
          "name": "stderr"
        }
      ]
    },
    {
      "cell_type": "code",
      "metadata": {
        "id": "mxagW7tC7x9d",
        "colab_type": "code",
        "colab": {}
      },
      "source": [
        "clubs=pd.DataFrame(df_combined2.club.unique())\n",
        "clubs.to_csv(r'C:\\Users\\Home\\Downloads\\All Fifa Datasets\\Data Cleaning\\Clubs_list.csv')"
      ],
      "execution_count": 0,
      "outputs": []
    },
    {
      "cell_type": "code",
      "metadata": {
        "id": "amNPUQfn7x9g",
        "colab_type": "code",
        "colab": {},
        "outputId": "67e59a78-4aea-4549-c060-4c53fb206091"
      },
      "source": [
        "df_combined2.info()"
      ],
      "execution_count": 0,
      "outputs": [
        {
          "output_type": "stream",
          "text": [
            "<class 'pandas.core.frame.DataFrame'>\n",
            "Int64Index: 97339 entries, 0 to 100994\n",
            "Data columns (total 79 columns):\n",
            "short_name                    97339 non-null object\n",
            "age                           97339 non-null int64\n",
            "height_cm                     97339 non-null int64\n",
            "weight_kg                     97339 non-null int64\n",
            "nationality                   97339 non-null object\n",
            "club                          97339 non-null object\n",
            "overall                       97339 non-null int64\n",
            "potential                     97339 non-null int64\n",
            "value_eur                     97339 non-null int64\n",
            "wage_eur                      97339 non-null int64\n",
            "preferred_foot                97339 non-null object\n",
            "international_reputation      97339 non-null int64\n",
            "weak_foot                     97339 non-null int64\n",
            "skill_moves                   97339 non-null int64\n",
            "work_rate                     97339 non-null object\n",
            "body_type                     97339 non-null object\n",
            "team_position                 97339 non-null object\n",
            "pace                          97339 non-null int32\n",
            "shooting                      97339 non-null int32\n",
            "passing                       97339 non-null int32\n",
            "dribbling                     97339 non-null int32\n",
            "defending                     97339 non-null int32\n",
            "physic                        97339 non-null int32\n",
            "attacking_crossing            97339 non-null int32\n",
            "attacking_finishing           97339 non-null int32\n",
            "attacking_heading_accuracy    97339 non-null int32\n",
            "attacking_short_passing       97339 non-null int32\n",
            "attacking_volleys             97339 non-null int32\n",
            "skill_dribbling               97339 non-null int32\n",
            "skill_curve                   97339 non-null int32\n",
            "skill_fk_accuracy             97339 non-null int32\n",
            "skill_long_passing            97339 non-null int32\n",
            "skill_ball_control            97339 non-null int32\n",
            "movement_acceleration         97339 non-null int32\n",
            "movement_sprint_speed         97339 non-null int32\n",
            "movement_agility              97339 non-null int32\n",
            "movement_reactions            97339 non-null int32\n",
            "movement_balance              97339 non-null int32\n",
            "power_shot_power              97339 non-null int32\n",
            "power_jumping                 97339 non-null int32\n",
            "power_stamina                 97339 non-null int32\n",
            "power_strength                97339 non-null int32\n",
            "power_long_shots              97339 non-null int32\n",
            "mentality_aggression          97339 non-null int32\n",
            "mentality_interceptions       97339 non-null int32\n",
            "mentality_positioning         97339 non-null int32\n",
            "mentality_vision              97339 non-null int32\n",
            "mentality_penalties           97339 non-null int32\n",
            "mentality_composure           97339 non-null int32\n",
            "defending_marking             97339 non-null int32\n",
            "defending_standing_tackle     97339 non-null int32\n",
            "defending_sliding_tackle      97339 non-null int32\n",
            "ls                            97339 non-null int32\n",
            "st                            97339 non-null int32\n",
            "rs                            97339 non-null int32\n",
            "lw                            97339 non-null int32\n",
            "lf                            97339 non-null int32\n",
            "cf                            97339 non-null int32\n",
            "rf                            97339 non-null int32\n",
            "rw                            97339 non-null int32\n",
            "lam                           97339 non-null int32\n",
            "cam                           97339 non-null int32\n",
            "ram                           97339 non-null int32\n",
            "lm                            97339 non-null int32\n",
            "lcm                           97339 non-null int32\n",
            "cm                            97339 non-null int32\n",
            "rcm                           97339 non-null int32\n",
            "rm                            97339 non-null int32\n",
            "lwb                           97339 non-null int32\n",
            "ldm                           97339 non-null int32\n",
            "cdm                           97339 non-null int32\n",
            "rdm                           97339 non-null int32\n",
            "rwb                           97339 non-null int32\n",
            "lb                            97339 non-null int32\n",
            "lcb                           97339 non-null int32\n",
            "cb                            97339 non-null int32\n",
            "rcb                           97339 non-null int32\n",
            "rb                            97339 non-null int32\n",
            "Year                          97339 non-null object\n",
            "dtypes: int32(61), int64(10), object(8)\n",
            "memory usage: 36.8+ MB\n"
          ],
          "name": "stdout"
        }
      ]
    },
    {
      "cell_type": "code",
      "metadata": {
        "id": "KyzujMQ57x9j",
        "colab_type": "code",
        "colab": {}
      },
      "source": [
        "df_combined2.to_csv(r'C:\\Users\\Home\\Downloads\\All Fifa Datasets\\Updated Dataset after Cleaning\\Updated1.csv')"
      ],
      "execution_count": 0,
      "outputs": []
    },
    {
      "cell_type": "code",
      "metadata": {
        "id": "mgHTaI0l7x9m",
        "colab_type": "code",
        "colab": {},
        "outputId": "e7bd2d67-318e-4908-fcf4-7890e38b064e"
      },
      "source": [
        "import plotly.express as px\n",
        "\n",
        "df = px.data.wind()\n",
        "fig = px.bar_polar(df, r=\"frequency\", theta=\"direction\",\n",
        "                   color=\"strength\",\n",
        "                   color_discrete_sequence= px.colors.sequential.Sunset)\n",
        "fig.show()"
      ],
      "execution_count": 0,
      "outputs": [
        {
          "output_type": "display_data",
          "data": {
            "application/vnd.plotly.v1+json": {
              "config": {
                "plotlyServerURL": "https://plot.ly"
              },
              "data": [
                {
                  "hoverlabel": {
                    "namelength": 0
                  },
                  "hovertemplate": "strength=0-1<br>frequency=%{r}<br>direction=%{theta}",
                  "legendgroup": "strength=0-1",
                  "marker": {
                    "color": "rgb(243, 231, 155)"
                  },
                  "name": "strength=0-1",
                  "r": [
                    0.5,
                    0.6,
                    0.5,
                    0.4,
                    0.4,
                    0.3,
                    0.4,
                    0.4,
                    0.6,
                    0.4,
                    0.5,
                    0.6,
                    0.6,
                    0.5,
                    0.4,
                    0.1
                  ],
                  "showlegend": true,
                  "subplot": "polar",
                  "theta": [
                    "N",
                    "NNE",
                    "NE",
                    "ENE",
                    "E",
                    "ESE",
                    "SE",
                    "SSE",
                    "S",
                    "SSW",
                    "SW",
                    "WSW",
                    "W",
                    "WNW",
                    "NW",
                    "NNW"
                  ],
                  "type": "barpolar"
                },
                {
                  "hoverlabel": {
                    "namelength": 0
                  },
                  "hovertemplate": "strength=1-2<br>frequency=%{r}<br>direction=%{theta}",
                  "legendgroup": "strength=1-2",
                  "marker": {
                    "color": "rgb(250, 196, 132)"
                  },
                  "name": "strength=1-2",
                  "r": [
                    1.6,
                    1.8,
                    1.5,
                    1.6,
                    1.6,
                    1.2,
                    1.5,
                    1.7,
                    2.2,
                    2,
                    2.3,
                    2.4,
                    2.3,
                    2.6,
                    2.3,
                    0.8
                  ],
                  "showlegend": true,
                  "subplot": "polar",
                  "theta": [
                    "N",
                    "NNE",
                    "NE",
                    "ENE",
                    "E",
                    "ESE",
                    "SE",
                    "SSE",
                    "S",
                    "SSW",
                    "SW",
                    "WSW",
                    "W",
                    "WNW",
                    "NW",
                    "NNW"
                  ],
                  "type": "barpolar"
                },
                {
                  "hoverlabel": {
                    "namelength": 0
                  },
                  "hovertemplate": "strength=2-3<br>frequency=%{r}<br>direction=%{theta}",
                  "legendgroup": "strength=2-3",
                  "marker": {
                    "color": "rgb(248, 160, 126)"
                  },
                  "name": "strength=2-3",
                  "r": [
                    0.9,
                    1.3,
                    1.6,
                    0.9,
                    1,
                    0.6,
                    0.6,
                    0.9,
                    1.4,
                    1.7,
                    1.9,
                    2.2,
                    1.8,
                    1.7,
                    1.8,
                    0.8
                  ],
                  "showlegend": true,
                  "subplot": "polar",
                  "theta": [
                    "N",
                    "NNE",
                    "NE",
                    "ENE",
                    "E",
                    "ESE",
                    "SE",
                    "SSE",
                    "S",
                    "SSW",
                    "SW",
                    "WSW",
                    "W",
                    "WNW",
                    "NW",
                    "NNW"
                  ],
                  "type": "barpolar"
                },
                {
                  "hoverlabel": {
                    "namelength": 0
                  },
                  "hovertemplate": "strength=3-4<br>frequency=%{r}<br>direction=%{theta}",
                  "legendgroup": "strength=3-4",
                  "marker": {
                    "color": "rgb(235, 127, 134)"
                  },
                  "name": "strength=3-4",
                  "r": [
                    0.9,
                    0.8,
                    1.2,
                    1,
                    0.8,
                    0.4,
                    0.5,
                    0.5,
                    0.8,
                    0.9,
                    1.3,
                    1.1,
                    1.2,
                    1.2,
                    1.3,
                    1
                  ],
                  "showlegend": true,
                  "subplot": "polar",
                  "theta": [
                    "N",
                    "NNE",
                    "NE",
                    "ENE",
                    "E",
                    "ESE",
                    "SE",
                    "SSE",
                    "S",
                    "SSW",
                    "SW",
                    "WSW",
                    "W",
                    "WNW",
                    "NW",
                    "NNW"
                  ],
                  "type": "barpolar"
                },
                {
                  "hoverlabel": {
                    "namelength": 0
                  },
                  "hovertemplate": "strength=4-4<br>frequency=%{r}<br>direction=%{theta}",
                  "legendgroup": "strength=4-4",
                  "marker": {
                    "color": "rgb(206, 102, 147)"
                  },
                  "name": "strength=4-4",
                  "r": [
                    0.4,
                    0.5,
                    1.2,
                    0.5,
                    0.4,
                    0.2,
                    0.4,
                    0.4,
                    0.7,
                    0.6,
                    0.7,
                    0.8,
                    0.9,
                    1,
                    1,
                    0.7
                  ],
                  "showlegend": true,
                  "subplot": "polar",
                  "theta": [
                    "N",
                    "NNE",
                    "NE",
                    "ENE",
                    "E",
                    "ESE",
                    "SE",
                    "SSE",
                    "S",
                    "SSW",
                    "SW",
                    "WSW",
                    "W",
                    "WNW",
                    "NW",
                    "NNW"
                  ],
                  "type": "barpolar"
                },
                {
                  "hoverlabel": {
                    "namelength": 0
                  },
                  "hovertemplate": "strength=4-5<br>frequency=%{r}<br>direction=%{theta}",
                  "legendgroup": "strength=4-5",
                  "marker": {
                    "color": "rgb(160, 89, 160)"
                  },
                  "name": "strength=4-5",
                  "r": [
                    0.3,
                    0.3,
                    0.6,
                    0.2,
                    0.1,
                    0.1,
                    0.05,
                    0.1,
                    0.1,
                    0.2,
                    0.3,
                    0.4,
                    0.9,
                    0.9,
                    0.9,
                    0.3
                  ],
                  "showlegend": true,
                  "subplot": "polar",
                  "theta": [
                    "N",
                    "NNE",
                    "NE",
                    "ENE",
                    "E",
                    "ESE",
                    "SE",
                    "SSE",
                    "S",
                    "SSW",
                    "SW",
                    "WSW",
                    "W",
                    "WNW",
                    "NW",
                    "NNW"
                  ],
                  "type": "barpolar"
                },
                {
                  "hoverlabel": {
                    "namelength": 0
                  },
                  "hovertemplate": "strength=5-6<br>frequency=%{r}<br>direction=%{theta}",
                  "legendgroup": "strength=5-6",
                  "marker": {
                    "color": "rgb(92, 83, 165)"
                  },
                  "name": "strength=5-6",
                  "r": [
                    0.2,
                    0.1,
                    0.1,
                    0.1,
                    0.1,
                    0.1,
                    0.05,
                    0.05,
                    0.1,
                    0.05,
                    0.2,
                    0.2,
                    0.4,
                    0.7,
                    0.7,
                    0.4
                  ],
                  "showlegend": true,
                  "subplot": "polar",
                  "theta": [
                    "N",
                    "NNE",
                    "NE",
                    "ENE",
                    "E",
                    "ESE",
                    "SE",
                    "SSE",
                    "S",
                    "SSW",
                    "SW",
                    "WSW",
                    "W",
                    "WNW",
                    "NW",
                    "NNW"
                  ],
                  "type": "barpolar"
                },
                {
                  "hoverlabel": {
                    "namelength": 0
                  },
                  "hovertemplate": "strength=6+<br>frequency=%{r}<br>direction=%{theta}",
                  "legendgroup": "strength=6+",
                  "marker": {
                    "color": "rgb(243, 231, 155)"
                  },
                  "name": "strength=6+",
                  "r": [
                    0.1,
                    0.1,
                    0.1,
                    0.1,
                    0.1,
                    0.05,
                    0.05,
                    0.05,
                    0.05,
                    0.1,
                    0.1,
                    0.1,
                    0.9,
                    2.2,
                    1.5,
                    0.2
                  ],
                  "showlegend": true,
                  "subplot": "polar",
                  "theta": [
                    "N",
                    "NNE",
                    "NE",
                    "ENE",
                    "E",
                    "ESE",
                    "SE",
                    "SSE",
                    "S",
                    "SSW",
                    "SW",
                    "WSW",
                    "W",
                    "WNW",
                    "NW",
                    "NNW"
                  ],
                  "type": "barpolar"
                }
              ],
              "layout": {
                "barmode": "relative",
                "height": 600,
                "legend": {
                  "tracegroupgap": 0
                },
                "margin": {
                  "t": 60
                },
                "polar": {
                  "angularaxis": {
                    "direction": "clockwise",
                    "rotation": 90
                  },
                  "domain": {
                    "x": [
                      0,
                      1
                    ],
                    "y": [
                      0,
                      1
                    ]
                  }
                },
                "template": {
                  "data": {
                    "bar": [
                      {
                        "error_x": {
                          "color": "#2a3f5f"
                        },
                        "error_y": {
                          "color": "#2a3f5f"
                        },
                        "marker": {
                          "line": {
                            "color": "#E5ECF6",
                            "width": 0.5
                          }
                        },
                        "type": "bar"
                      }
                    ],
                    "barpolar": [
                      {
                        "marker": {
                          "line": {
                            "color": "#E5ECF6",
                            "width": 0.5
                          }
                        },
                        "type": "barpolar"
                      }
                    ],
                    "carpet": [
                      {
                        "aaxis": {
                          "endlinecolor": "#2a3f5f",
                          "gridcolor": "white",
                          "linecolor": "white",
                          "minorgridcolor": "white",
                          "startlinecolor": "#2a3f5f"
                        },
                        "baxis": {
                          "endlinecolor": "#2a3f5f",
                          "gridcolor": "white",
                          "linecolor": "white",
                          "minorgridcolor": "white",
                          "startlinecolor": "#2a3f5f"
                        },
                        "type": "carpet"
                      }
                    ],
                    "choropleth": [
                      {
                        "colorbar": {
                          "outlinewidth": 0,
                          "ticks": ""
                        },
                        "type": "choropleth"
                      }
                    ],
                    "contour": [
                      {
                        "colorbar": {
                          "outlinewidth": 0,
                          "ticks": ""
                        },
                        "colorscale": [
                          [
                            0,
                            "#0d0887"
                          ],
                          [
                            0.1111111111111111,
                            "#46039f"
                          ],
                          [
                            0.2222222222222222,
                            "#7201a8"
                          ],
                          [
                            0.3333333333333333,
                            "#9c179e"
                          ],
                          [
                            0.4444444444444444,
                            "#bd3786"
                          ],
                          [
                            0.5555555555555556,
                            "#d8576b"
                          ],
                          [
                            0.6666666666666666,
                            "#ed7953"
                          ],
                          [
                            0.7777777777777778,
                            "#fb9f3a"
                          ],
                          [
                            0.8888888888888888,
                            "#fdca26"
                          ],
                          [
                            1,
                            "#f0f921"
                          ]
                        ],
                        "type": "contour"
                      }
                    ],
                    "contourcarpet": [
                      {
                        "colorbar": {
                          "outlinewidth": 0,
                          "ticks": ""
                        },
                        "type": "contourcarpet"
                      }
                    ],
                    "heatmap": [
                      {
                        "colorbar": {
                          "outlinewidth": 0,
                          "ticks": ""
                        },
                        "colorscale": [
                          [
                            0,
                            "#0d0887"
                          ],
                          [
                            0.1111111111111111,
                            "#46039f"
                          ],
                          [
                            0.2222222222222222,
                            "#7201a8"
                          ],
                          [
                            0.3333333333333333,
                            "#9c179e"
                          ],
                          [
                            0.4444444444444444,
                            "#bd3786"
                          ],
                          [
                            0.5555555555555556,
                            "#d8576b"
                          ],
                          [
                            0.6666666666666666,
                            "#ed7953"
                          ],
                          [
                            0.7777777777777778,
                            "#fb9f3a"
                          ],
                          [
                            0.8888888888888888,
                            "#fdca26"
                          ],
                          [
                            1,
                            "#f0f921"
                          ]
                        ],
                        "type": "heatmap"
                      }
                    ],
                    "heatmapgl": [
                      {
                        "colorbar": {
                          "outlinewidth": 0,
                          "ticks": ""
                        },
                        "colorscale": [
                          [
                            0,
                            "#0d0887"
                          ],
                          [
                            0.1111111111111111,
                            "#46039f"
                          ],
                          [
                            0.2222222222222222,
                            "#7201a8"
                          ],
                          [
                            0.3333333333333333,
                            "#9c179e"
                          ],
                          [
                            0.4444444444444444,
                            "#bd3786"
                          ],
                          [
                            0.5555555555555556,
                            "#d8576b"
                          ],
                          [
                            0.6666666666666666,
                            "#ed7953"
                          ],
                          [
                            0.7777777777777778,
                            "#fb9f3a"
                          ],
                          [
                            0.8888888888888888,
                            "#fdca26"
                          ],
                          [
                            1,
                            "#f0f921"
                          ]
                        ],
                        "type": "heatmapgl"
                      }
                    ],
                    "histogram": [
                      {
                        "marker": {
                          "colorbar": {
                            "outlinewidth": 0,
                            "ticks": ""
                          }
                        },
                        "type": "histogram"
                      }
                    ],
                    "histogram2d": [
                      {
                        "colorbar": {
                          "outlinewidth": 0,
                          "ticks": ""
                        },
                        "colorscale": [
                          [
                            0,
                            "#0d0887"
                          ],
                          [
                            0.1111111111111111,
                            "#46039f"
                          ],
                          [
                            0.2222222222222222,
                            "#7201a8"
                          ],
                          [
                            0.3333333333333333,
                            "#9c179e"
                          ],
                          [
                            0.4444444444444444,
                            "#bd3786"
                          ],
                          [
                            0.5555555555555556,
                            "#d8576b"
                          ],
                          [
                            0.6666666666666666,
                            "#ed7953"
                          ],
                          [
                            0.7777777777777778,
                            "#fb9f3a"
                          ],
                          [
                            0.8888888888888888,
                            "#fdca26"
                          ],
                          [
                            1,
                            "#f0f921"
                          ]
                        ],
                        "type": "histogram2d"
                      }
                    ],
                    "histogram2dcontour": [
                      {
                        "colorbar": {
                          "outlinewidth": 0,
                          "ticks": ""
                        },
                        "colorscale": [
                          [
                            0,
                            "#0d0887"
                          ],
                          [
                            0.1111111111111111,
                            "#46039f"
                          ],
                          [
                            0.2222222222222222,
                            "#7201a8"
                          ],
                          [
                            0.3333333333333333,
                            "#9c179e"
                          ],
                          [
                            0.4444444444444444,
                            "#bd3786"
                          ],
                          [
                            0.5555555555555556,
                            "#d8576b"
                          ],
                          [
                            0.6666666666666666,
                            "#ed7953"
                          ],
                          [
                            0.7777777777777778,
                            "#fb9f3a"
                          ],
                          [
                            0.8888888888888888,
                            "#fdca26"
                          ],
                          [
                            1,
                            "#f0f921"
                          ]
                        ],
                        "type": "histogram2dcontour"
                      }
                    ],
                    "mesh3d": [
                      {
                        "colorbar": {
                          "outlinewidth": 0,
                          "ticks": ""
                        },
                        "type": "mesh3d"
                      }
                    ],
                    "parcoords": [
                      {
                        "line": {
                          "colorbar": {
                            "outlinewidth": 0,
                            "ticks": ""
                          }
                        },
                        "type": "parcoords"
                      }
                    ],
                    "pie": [
                      {
                        "automargin": true,
                        "type": "pie"
                      }
                    ],
                    "scatter": [
                      {
                        "marker": {
                          "colorbar": {
                            "outlinewidth": 0,
                            "ticks": ""
                          }
                        },
                        "type": "scatter"
                      }
                    ],
                    "scatter3d": [
                      {
                        "line": {
                          "colorbar": {
                            "outlinewidth": 0,
                            "ticks": ""
                          }
                        },
                        "marker": {
                          "colorbar": {
                            "outlinewidth": 0,
                            "ticks": ""
                          }
                        },
                        "type": "scatter3d"
                      }
                    ],
                    "scattercarpet": [
                      {
                        "marker": {
                          "colorbar": {
                            "outlinewidth": 0,
                            "ticks": ""
                          }
                        },
                        "type": "scattercarpet"
                      }
                    ],
                    "scattergeo": [
                      {
                        "marker": {
                          "colorbar": {
                            "outlinewidth": 0,
                            "ticks": ""
                          }
                        },
                        "type": "scattergeo"
                      }
                    ],
                    "scattergl": [
                      {
                        "marker": {
                          "colorbar": {
                            "outlinewidth": 0,
                            "ticks": ""
                          }
                        },
                        "type": "scattergl"
                      }
                    ],
                    "scattermapbox": [
                      {
                        "marker": {
                          "colorbar": {
                            "outlinewidth": 0,
                            "ticks": ""
                          }
                        },
                        "type": "scattermapbox"
                      }
                    ],
                    "scatterpolar": [
                      {
                        "marker": {
                          "colorbar": {
                            "outlinewidth": 0,
                            "ticks": ""
                          }
                        },
                        "type": "scatterpolar"
                      }
                    ],
                    "scatterpolargl": [
                      {
                        "marker": {
                          "colorbar": {
                            "outlinewidth": 0,
                            "ticks": ""
                          }
                        },
                        "type": "scatterpolargl"
                      }
                    ],
                    "scatterternary": [
                      {
                        "marker": {
                          "colorbar": {
                            "outlinewidth": 0,
                            "ticks": ""
                          }
                        },
                        "type": "scatterternary"
                      }
                    ],
                    "surface": [
                      {
                        "colorbar": {
                          "outlinewidth": 0,
                          "ticks": ""
                        },
                        "colorscale": [
                          [
                            0,
                            "#0d0887"
                          ],
                          [
                            0.1111111111111111,
                            "#46039f"
                          ],
                          [
                            0.2222222222222222,
                            "#7201a8"
                          ],
                          [
                            0.3333333333333333,
                            "#9c179e"
                          ],
                          [
                            0.4444444444444444,
                            "#bd3786"
                          ],
                          [
                            0.5555555555555556,
                            "#d8576b"
                          ],
                          [
                            0.6666666666666666,
                            "#ed7953"
                          ],
                          [
                            0.7777777777777778,
                            "#fb9f3a"
                          ],
                          [
                            0.8888888888888888,
                            "#fdca26"
                          ],
                          [
                            1,
                            "#f0f921"
                          ]
                        ],
                        "type": "surface"
                      }
                    ],
                    "table": [
                      {
                        "cells": {
                          "fill": {
                            "color": "#EBF0F8"
                          },
                          "line": {
                            "color": "white"
                          }
                        },
                        "header": {
                          "fill": {
                            "color": "#C8D4E3"
                          },
                          "line": {
                            "color": "white"
                          }
                        },
                        "type": "table"
                      }
                    ]
                  },
                  "layout": {
                    "annotationdefaults": {
                      "arrowcolor": "#2a3f5f",
                      "arrowhead": 0,
                      "arrowwidth": 1
                    },
                    "coloraxis": {
                      "colorbar": {
                        "outlinewidth": 0,
                        "ticks": ""
                      }
                    },
                    "colorscale": {
                      "diverging": [
                        [
                          0,
                          "#8e0152"
                        ],
                        [
                          0.1,
                          "#c51b7d"
                        ],
                        [
                          0.2,
                          "#de77ae"
                        ],
                        [
                          0.3,
                          "#f1b6da"
                        ],
                        [
                          0.4,
                          "#fde0ef"
                        ],
                        [
                          0.5,
                          "#f7f7f7"
                        ],
                        [
                          0.6,
                          "#e6f5d0"
                        ],
                        [
                          0.7,
                          "#b8e186"
                        ],
                        [
                          0.8,
                          "#7fbc41"
                        ],
                        [
                          0.9,
                          "#4d9221"
                        ],
                        [
                          1,
                          "#276419"
                        ]
                      ],
                      "sequential": [
                        [
                          0,
                          "#0d0887"
                        ],
                        [
                          0.1111111111111111,
                          "#46039f"
                        ],
                        [
                          0.2222222222222222,
                          "#7201a8"
                        ],
                        [
                          0.3333333333333333,
                          "#9c179e"
                        ],
                        [
                          0.4444444444444444,
                          "#bd3786"
                        ],
                        [
                          0.5555555555555556,
                          "#d8576b"
                        ],
                        [
                          0.6666666666666666,
                          "#ed7953"
                        ],
                        [
                          0.7777777777777778,
                          "#fb9f3a"
                        ],
                        [
                          0.8888888888888888,
                          "#fdca26"
                        ],
                        [
                          1,
                          "#f0f921"
                        ]
                      ],
                      "sequentialminus": [
                        [
                          0,
                          "#0d0887"
                        ],
                        [
                          0.1111111111111111,
                          "#46039f"
                        ],
                        [
                          0.2222222222222222,
                          "#7201a8"
                        ],
                        [
                          0.3333333333333333,
                          "#9c179e"
                        ],
                        [
                          0.4444444444444444,
                          "#bd3786"
                        ],
                        [
                          0.5555555555555556,
                          "#d8576b"
                        ],
                        [
                          0.6666666666666666,
                          "#ed7953"
                        ],
                        [
                          0.7777777777777778,
                          "#fb9f3a"
                        ],
                        [
                          0.8888888888888888,
                          "#fdca26"
                        ],
                        [
                          1,
                          "#f0f921"
                        ]
                      ]
                    },
                    "colorway": [
                      "#636efa",
                      "#EF553B",
                      "#00cc96",
                      "#ab63fa",
                      "#FFA15A",
                      "#19d3f3",
                      "#FF6692",
                      "#B6E880",
                      "#FF97FF",
                      "#FECB52"
                    ],
                    "font": {
                      "color": "#2a3f5f"
                    },
                    "geo": {
                      "bgcolor": "white",
                      "lakecolor": "white",
                      "landcolor": "#E5ECF6",
                      "showlakes": true,
                      "showland": true,
                      "subunitcolor": "white"
                    },
                    "hoverlabel": {
                      "align": "left"
                    },
                    "hovermode": "closest",
                    "mapbox": {
                      "style": "light"
                    },
                    "paper_bgcolor": "white",
                    "plot_bgcolor": "#E5ECF6",
                    "polar": {
                      "angularaxis": {
                        "gridcolor": "white",
                        "linecolor": "white",
                        "ticks": ""
                      },
                      "bgcolor": "#E5ECF6",
                      "radialaxis": {
                        "gridcolor": "white",
                        "linecolor": "white",
                        "ticks": ""
                      }
                    },
                    "scene": {
                      "xaxis": {
                        "backgroundcolor": "#E5ECF6",
                        "gridcolor": "white",
                        "gridwidth": 2,
                        "linecolor": "white",
                        "showbackground": true,
                        "ticks": "",
                        "zerolinecolor": "white"
                      },
                      "yaxis": {
                        "backgroundcolor": "#E5ECF6",
                        "gridcolor": "white",
                        "gridwidth": 2,
                        "linecolor": "white",
                        "showbackground": true,
                        "ticks": "",
                        "zerolinecolor": "white"
                      },
                      "zaxis": {
                        "backgroundcolor": "#E5ECF6",
                        "gridcolor": "white",
                        "gridwidth": 2,
                        "linecolor": "white",
                        "showbackground": true,
                        "ticks": "",
                        "zerolinecolor": "white"
                      }
                    },
                    "shapedefaults": {
                      "line": {
                        "color": "#2a3f5f"
                      }
                    },
                    "ternary": {
                      "aaxis": {
                        "gridcolor": "white",
                        "linecolor": "white",
                        "ticks": ""
                      },
                      "baxis": {
                        "gridcolor": "white",
                        "linecolor": "white",
                        "ticks": ""
                      },
                      "bgcolor": "#E5ECF6",
                      "caxis": {
                        "gridcolor": "white",
                        "linecolor": "white",
                        "ticks": ""
                      }
                    },
                    "title": {
                      "x": 0.05
                    },
                    "xaxis": {
                      "automargin": true,
                      "gridcolor": "white",
                      "linecolor": "white",
                      "ticks": "",
                      "title": {
                        "standoff": 15
                      },
                      "zerolinecolor": "white",
                      "zerolinewidth": 2
                    },
                    "yaxis": {
                      "automargin": true,
                      "gridcolor": "white",
                      "linecolor": "white",
                      "ticks": "",
                      "title": {
                        "standoff": 15
                      },
                      "zerolinecolor": "white",
                      "zerolinewidth": 2
                    }
                  }
                }
              }
            },
            "text/html": [
              "<div>\n",
              "        \n",
              "        \n",
              "            <div id=\"77f14e87-1cab-4d76-aece-449f541439ff\" class=\"plotly-graph-div\" style=\"height:600px; width:100%;\"></div>\n",
              "            <script type=\"text/javascript\">\n",
              "                require([\"plotly\"], function(Plotly) {\n",
              "                    window.PLOTLYENV=window.PLOTLYENV || {};\n",
              "                    \n",
              "                if (document.getElementById(\"77f14e87-1cab-4d76-aece-449f541439ff\")) {\n",
              "                    Plotly.newPlot(\n",
              "                        '77f14e87-1cab-4d76-aece-449f541439ff',\n",
              "                        [{\"hoverlabel\": {\"namelength\": 0}, \"hovertemplate\": \"strength=0-1<br>frequency=%{r}<br>direction=%{theta}\", \"legendgroup\": \"strength=0-1\", \"marker\": {\"color\": \"rgb(243, 231, 155)\"}, \"name\": \"strength=0-1\", \"r\": [0.5, 0.6, 0.5, 0.4, 0.4, 0.3, 0.4, 0.4, 0.6, 0.4, 0.5, 0.6, 0.6, 0.5, 0.4, 0.1], \"showlegend\": true, \"subplot\": \"polar\", \"theta\": [\"N\", \"NNE\", \"NE\", \"ENE\", \"E\", \"ESE\", \"SE\", \"SSE\", \"S\", \"SSW\", \"SW\", \"WSW\", \"W\", \"WNW\", \"NW\", \"NNW\"], \"type\": \"barpolar\"}, {\"hoverlabel\": {\"namelength\": 0}, \"hovertemplate\": \"strength=1-2<br>frequency=%{r}<br>direction=%{theta}\", \"legendgroup\": \"strength=1-2\", \"marker\": {\"color\": \"rgb(250, 196, 132)\"}, \"name\": \"strength=1-2\", \"r\": [1.6, 1.8, 1.5, 1.6, 1.6, 1.2, 1.5, 1.7, 2.2, 2.0, 2.3, 2.4, 2.3, 2.6, 2.3, 0.8], \"showlegend\": true, \"subplot\": \"polar\", \"theta\": [\"N\", \"NNE\", \"NE\", \"ENE\", \"E\", \"ESE\", \"SE\", \"SSE\", \"S\", \"SSW\", \"SW\", \"WSW\", \"W\", \"WNW\", \"NW\", \"NNW\"], \"type\": \"barpolar\"}, {\"hoverlabel\": {\"namelength\": 0}, \"hovertemplate\": \"strength=2-3<br>frequency=%{r}<br>direction=%{theta}\", \"legendgroup\": \"strength=2-3\", \"marker\": {\"color\": \"rgb(248, 160, 126)\"}, \"name\": \"strength=2-3\", \"r\": [0.9, 1.3, 1.6, 0.9, 1.0, 0.6, 0.6, 0.9, 1.4, 1.7, 1.9, 2.2, 1.8, 1.7, 1.8, 0.8], \"showlegend\": true, \"subplot\": \"polar\", \"theta\": [\"N\", \"NNE\", \"NE\", \"ENE\", \"E\", \"ESE\", \"SE\", \"SSE\", \"S\", \"SSW\", \"SW\", \"WSW\", \"W\", \"WNW\", \"NW\", \"NNW\"], \"type\": \"barpolar\"}, {\"hoverlabel\": {\"namelength\": 0}, \"hovertemplate\": \"strength=3-4<br>frequency=%{r}<br>direction=%{theta}\", \"legendgroup\": \"strength=3-4\", \"marker\": {\"color\": \"rgb(235, 127, 134)\"}, \"name\": \"strength=3-4\", \"r\": [0.9, 0.8, 1.2, 1.0, 0.8, 0.4, 0.5, 0.5, 0.8, 0.9, 1.3, 1.1, 1.2, 1.2, 1.3, 1.0], \"showlegend\": true, \"subplot\": \"polar\", \"theta\": [\"N\", \"NNE\", \"NE\", \"ENE\", \"E\", \"ESE\", \"SE\", \"SSE\", \"S\", \"SSW\", \"SW\", \"WSW\", \"W\", \"WNW\", \"NW\", \"NNW\"], \"type\": \"barpolar\"}, {\"hoverlabel\": {\"namelength\": 0}, \"hovertemplate\": \"strength=4-4<br>frequency=%{r}<br>direction=%{theta}\", \"legendgroup\": \"strength=4-4\", \"marker\": {\"color\": \"rgb(206, 102, 147)\"}, \"name\": \"strength=4-4\", \"r\": [0.4, 0.5, 1.2, 0.5, 0.4, 0.2, 0.4, 0.4, 0.7, 0.6, 0.7, 0.8, 0.9, 1.0, 1.0, 0.7], \"showlegend\": true, \"subplot\": \"polar\", \"theta\": [\"N\", \"NNE\", \"NE\", \"ENE\", \"E\", \"ESE\", \"SE\", \"SSE\", \"S\", \"SSW\", \"SW\", \"WSW\", \"W\", \"WNW\", \"NW\", \"NNW\"], \"type\": \"barpolar\"}, {\"hoverlabel\": {\"namelength\": 0}, \"hovertemplate\": \"strength=4-5<br>frequency=%{r}<br>direction=%{theta}\", \"legendgroup\": \"strength=4-5\", \"marker\": {\"color\": \"rgb(160, 89, 160)\"}, \"name\": \"strength=4-5\", \"r\": [0.3, 0.3, 0.6, 0.2, 0.1, 0.1, 0.05, 0.1, 0.1, 0.2, 0.3, 0.4, 0.9, 0.9, 0.9, 0.3], \"showlegend\": true, \"subplot\": \"polar\", \"theta\": [\"N\", \"NNE\", \"NE\", \"ENE\", \"E\", \"ESE\", \"SE\", \"SSE\", \"S\", \"SSW\", \"SW\", \"WSW\", \"W\", \"WNW\", \"NW\", \"NNW\"], \"type\": \"barpolar\"}, {\"hoverlabel\": {\"namelength\": 0}, \"hovertemplate\": \"strength=5-6<br>frequency=%{r}<br>direction=%{theta}\", \"legendgroup\": \"strength=5-6\", \"marker\": {\"color\": \"rgb(92, 83, 165)\"}, \"name\": \"strength=5-6\", \"r\": [0.2, 0.1, 0.1, 0.1, 0.1, 0.1, 0.05, 0.05, 0.1, 0.05, 0.2, 0.2, 0.4, 0.7, 0.7, 0.4], \"showlegend\": true, \"subplot\": \"polar\", \"theta\": [\"N\", \"NNE\", \"NE\", \"ENE\", \"E\", \"ESE\", \"SE\", \"SSE\", \"S\", \"SSW\", \"SW\", \"WSW\", \"W\", \"WNW\", \"NW\", \"NNW\"], \"type\": \"barpolar\"}, {\"hoverlabel\": {\"namelength\": 0}, \"hovertemplate\": \"strength=6+<br>frequency=%{r}<br>direction=%{theta}\", \"legendgroup\": \"strength=6+\", \"marker\": {\"color\": \"rgb(243, 231, 155)\"}, \"name\": \"strength=6+\", \"r\": [0.1, 0.1, 0.1, 0.1, 0.1, 0.05, 0.05, 0.05, 0.05, 0.1, 0.1, 0.1, 0.9, 2.2, 1.5, 0.2], \"showlegend\": true, \"subplot\": \"polar\", \"theta\": [\"N\", \"NNE\", \"NE\", \"ENE\", \"E\", \"ESE\", \"SE\", \"SSE\", \"S\", \"SSW\", \"SW\", \"WSW\", \"W\", \"WNW\", \"NW\", \"NNW\"], \"type\": \"barpolar\"}],\n",
              "                        {\"barmode\": \"relative\", \"height\": 600, \"legend\": {\"tracegroupgap\": 0}, \"margin\": {\"t\": 60}, \"polar\": {\"angularaxis\": {\"direction\": \"clockwise\", \"rotation\": 90}, \"domain\": {\"x\": [0.0, 1.0], \"y\": [0.0, 1.0]}}, \"template\": {\"data\": {\"bar\": [{\"error_x\": {\"color\": \"#2a3f5f\"}, \"error_y\": {\"color\": \"#2a3f5f\"}, \"marker\": {\"line\": {\"color\": \"#E5ECF6\", \"width\": 0.5}}, \"type\": \"bar\"}], \"barpolar\": [{\"marker\": {\"line\": {\"color\": \"#E5ECF6\", \"width\": 0.5}}, \"type\": \"barpolar\"}], \"carpet\": [{\"aaxis\": {\"endlinecolor\": \"#2a3f5f\", \"gridcolor\": \"white\", \"linecolor\": \"white\", \"minorgridcolor\": \"white\", \"startlinecolor\": \"#2a3f5f\"}, \"baxis\": {\"endlinecolor\": \"#2a3f5f\", \"gridcolor\": \"white\", \"linecolor\": \"white\", \"minorgridcolor\": \"white\", \"startlinecolor\": \"#2a3f5f\"}, \"type\": \"carpet\"}], \"choropleth\": [{\"colorbar\": {\"outlinewidth\": 0, \"ticks\": \"\"}, \"type\": \"choropleth\"}], \"contour\": [{\"colorbar\": {\"outlinewidth\": 0, \"ticks\": \"\"}, \"colorscale\": [[0.0, \"#0d0887\"], [0.1111111111111111, \"#46039f\"], [0.2222222222222222, \"#7201a8\"], [0.3333333333333333, \"#9c179e\"], [0.4444444444444444, \"#bd3786\"], [0.5555555555555556, \"#d8576b\"], [0.6666666666666666, \"#ed7953\"], [0.7777777777777778, \"#fb9f3a\"], [0.8888888888888888, \"#fdca26\"], [1.0, \"#f0f921\"]], \"type\": \"contour\"}], \"contourcarpet\": [{\"colorbar\": {\"outlinewidth\": 0, \"ticks\": \"\"}, \"type\": \"contourcarpet\"}], \"heatmap\": [{\"colorbar\": {\"outlinewidth\": 0, \"ticks\": \"\"}, \"colorscale\": [[0.0, \"#0d0887\"], [0.1111111111111111, \"#46039f\"], [0.2222222222222222, \"#7201a8\"], [0.3333333333333333, \"#9c179e\"], [0.4444444444444444, \"#bd3786\"], [0.5555555555555556, \"#d8576b\"], [0.6666666666666666, \"#ed7953\"], [0.7777777777777778, \"#fb9f3a\"], [0.8888888888888888, \"#fdca26\"], [1.0, \"#f0f921\"]], \"type\": \"heatmap\"}], \"heatmapgl\": [{\"colorbar\": {\"outlinewidth\": 0, \"ticks\": \"\"}, \"colorscale\": [[0.0, \"#0d0887\"], [0.1111111111111111, \"#46039f\"], [0.2222222222222222, \"#7201a8\"], [0.3333333333333333, \"#9c179e\"], [0.4444444444444444, \"#bd3786\"], [0.5555555555555556, \"#d8576b\"], [0.6666666666666666, \"#ed7953\"], [0.7777777777777778, \"#fb9f3a\"], [0.8888888888888888, \"#fdca26\"], [1.0, \"#f0f921\"]], \"type\": \"heatmapgl\"}], \"histogram\": [{\"marker\": {\"colorbar\": {\"outlinewidth\": 0, \"ticks\": \"\"}}, \"type\": \"histogram\"}], \"histogram2d\": [{\"colorbar\": {\"outlinewidth\": 0, \"ticks\": \"\"}, \"colorscale\": [[0.0, \"#0d0887\"], [0.1111111111111111, \"#46039f\"], [0.2222222222222222, \"#7201a8\"], [0.3333333333333333, \"#9c179e\"], [0.4444444444444444, \"#bd3786\"], [0.5555555555555556, \"#d8576b\"], [0.6666666666666666, \"#ed7953\"], [0.7777777777777778, \"#fb9f3a\"], [0.8888888888888888, \"#fdca26\"], [1.0, \"#f0f921\"]], \"type\": \"histogram2d\"}], \"histogram2dcontour\": [{\"colorbar\": {\"outlinewidth\": 0, \"ticks\": \"\"}, \"colorscale\": [[0.0, \"#0d0887\"], [0.1111111111111111, \"#46039f\"], [0.2222222222222222, \"#7201a8\"], [0.3333333333333333, \"#9c179e\"], [0.4444444444444444, \"#bd3786\"], [0.5555555555555556, \"#d8576b\"], [0.6666666666666666, \"#ed7953\"], [0.7777777777777778, \"#fb9f3a\"], [0.8888888888888888, \"#fdca26\"], [1.0, \"#f0f921\"]], \"type\": \"histogram2dcontour\"}], \"mesh3d\": [{\"colorbar\": {\"outlinewidth\": 0, \"ticks\": \"\"}, \"type\": \"mesh3d\"}], \"parcoords\": [{\"line\": {\"colorbar\": {\"outlinewidth\": 0, \"ticks\": \"\"}}, \"type\": \"parcoords\"}], \"pie\": [{\"automargin\": true, \"type\": \"pie\"}], \"scatter\": [{\"marker\": {\"colorbar\": {\"outlinewidth\": 0, \"ticks\": \"\"}}, \"type\": \"scatter\"}], \"scatter3d\": [{\"line\": {\"colorbar\": {\"outlinewidth\": 0, \"ticks\": \"\"}}, \"marker\": {\"colorbar\": {\"outlinewidth\": 0, \"ticks\": \"\"}}, \"type\": \"scatter3d\"}], \"scattercarpet\": [{\"marker\": {\"colorbar\": {\"outlinewidth\": 0, \"ticks\": \"\"}}, \"type\": \"scattercarpet\"}], \"scattergeo\": [{\"marker\": {\"colorbar\": {\"outlinewidth\": 0, \"ticks\": \"\"}}, \"type\": \"scattergeo\"}], \"scattergl\": [{\"marker\": {\"colorbar\": {\"outlinewidth\": 0, \"ticks\": \"\"}}, \"type\": \"scattergl\"}], \"scattermapbox\": [{\"marker\": {\"colorbar\": {\"outlinewidth\": 0, \"ticks\": \"\"}}, \"type\": \"scattermapbox\"}], \"scatterpolar\": [{\"marker\": {\"colorbar\": {\"outlinewidth\": 0, \"ticks\": \"\"}}, \"type\": \"scatterpolar\"}], \"scatterpolargl\": [{\"marker\": {\"colorbar\": {\"outlinewidth\": 0, \"ticks\": \"\"}}, \"type\": \"scatterpolargl\"}], \"scatterternary\": [{\"marker\": {\"colorbar\": {\"outlinewidth\": 0, \"ticks\": \"\"}}, \"type\": \"scatterternary\"}], \"surface\": [{\"colorbar\": {\"outlinewidth\": 0, \"ticks\": \"\"}, \"colorscale\": [[0.0, \"#0d0887\"], [0.1111111111111111, \"#46039f\"], [0.2222222222222222, \"#7201a8\"], [0.3333333333333333, \"#9c179e\"], [0.4444444444444444, \"#bd3786\"], [0.5555555555555556, \"#d8576b\"], [0.6666666666666666, \"#ed7953\"], [0.7777777777777778, \"#fb9f3a\"], [0.8888888888888888, \"#fdca26\"], [1.0, \"#f0f921\"]], \"type\": \"surface\"}], \"table\": [{\"cells\": {\"fill\": {\"color\": \"#EBF0F8\"}, \"line\": {\"color\": \"white\"}}, \"header\": {\"fill\": {\"color\": \"#C8D4E3\"}, \"line\": {\"color\": \"white\"}}, \"type\": \"table\"}]}, \"layout\": {\"annotationdefaults\": {\"arrowcolor\": \"#2a3f5f\", \"arrowhead\": 0, \"arrowwidth\": 1}, \"coloraxis\": {\"colorbar\": {\"outlinewidth\": 0, \"ticks\": \"\"}}, \"colorscale\": {\"diverging\": [[0, \"#8e0152\"], [0.1, \"#c51b7d\"], [0.2, \"#de77ae\"], [0.3, \"#f1b6da\"], [0.4, \"#fde0ef\"], [0.5, \"#f7f7f7\"], [0.6, \"#e6f5d0\"], [0.7, \"#b8e186\"], [0.8, \"#7fbc41\"], [0.9, \"#4d9221\"], [1, \"#276419\"]], \"sequential\": [[0.0, \"#0d0887\"], [0.1111111111111111, \"#46039f\"], [0.2222222222222222, \"#7201a8\"], [0.3333333333333333, \"#9c179e\"], [0.4444444444444444, \"#bd3786\"], [0.5555555555555556, \"#d8576b\"], [0.6666666666666666, \"#ed7953\"], [0.7777777777777778, \"#fb9f3a\"], [0.8888888888888888, \"#fdca26\"], [1.0, \"#f0f921\"]], \"sequentialminus\": [[0.0, \"#0d0887\"], [0.1111111111111111, \"#46039f\"], [0.2222222222222222, \"#7201a8\"], [0.3333333333333333, \"#9c179e\"], [0.4444444444444444, \"#bd3786\"], [0.5555555555555556, \"#d8576b\"], [0.6666666666666666, \"#ed7953\"], [0.7777777777777778, \"#fb9f3a\"], [0.8888888888888888, \"#fdca26\"], [1.0, \"#f0f921\"]]}, \"colorway\": [\"#636efa\", \"#EF553B\", \"#00cc96\", \"#ab63fa\", \"#FFA15A\", \"#19d3f3\", \"#FF6692\", \"#B6E880\", \"#FF97FF\", \"#FECB52\"], \"font\": {\"color\": \"#2a3f5f\"}, \"geo\": {\"bgcolor\": \"white\", \"lakecolor\": \"white\", \"landcolor\": \"#E5ECF6\", \"showlakes\": true, \"showland\": true, \"subunitcolor\": \"white\"}, \"hoverlabel\": {\"align\": \"left\"}, \"hovermode\": \"closest\", \"mapbox\": {\"style\": \"light\"}, \"paper_bgcolor\": \"white\", \"plot_bgcolor\": \"#E5ECF6\", \"polar\": {\"angularaxis\": {\"gridcolor\": \"white\", \"linecolor\": \"white\", \"ticks\": \"\"}, \"bgcolor\": \"#E5ECF6\", \"radialaxis\": {\"gridcolor\": \"white\", \"linecolor\": \"white\", \"ticks\": \"\"}}, \"scene\": {\"xaxis\": {\"backgroundcolor\": \"#E5ECF6\", \"gridcolor\": \"white\", \"gridwidth\": 2, \"linecolor\": \"white\", \"showbackground\": true, \"ticks\": \"\", \"zerolinecolor\": \"white\"}, \"yaxis\": {\"backgroundcolor\": \"#E5ECF6\", \"gridcolor\": \"white\", \"gridwidth\": 2, \"linecolor\": \"white\", \"showbackground\": true, \"ticks\": \"\", \"zerolinecolor\": \"white\"}, \"zaxis\": {\"backgroundcolor\": \"#E5ECF6\", \"gridcolor\": \"white\", \"gridwidth\": 2, \"linecolor\": \"white\", \"showbackground\": true, \"ticks\": \"\", \"zerolinecolor\": \"white\"}}, \"shapedefaults\": {\"line\": {\"color\": \"#2a3f5f\"}}, \"ternary\": {\"aaxis\": {\"gridcolor\": \"white\", \"linecolor\": \"white\", \"ticks\": \"\"}, \"baxis\": {\"gridcolor\": \"white\", \"linecolor\": \"white\", \"ticks\": \"\"}, \"bgcolor\": \"#E5ECF6\", \"caxis\": {\"gridcolor\": \"white\", \"linecolor\": \"white\", \"ticks\": \"\"}}, \"title\": {\"x\": 0.05}, \"xaxis\": {\"automargin\": true, \"gridcolor\": \"white\", \"linecolor\": \"white\", \"ticks\": \"\", \"title\": {\"standoff\": 15}, \"zerolinecolor\": \"white\", \"zerolinewidth\": 2}, \"yaxis\": {\"automargin\": true, \"gridcolor\": \"white\", \"linecolor\": \"white\", \"ticks\": \"\", \"title\": {\"standoff\": 15}, \"zerolinecolor\": \"white\", \"zerolinewidth\": 2}}}},\n",
              "                        {\"responsive\": true}\n",
              "                    ).then(function(){\n",
              "                            \n",
              "var gd = document.getElementById('77f14e87-1cab-4d76-aece-449f541439ff');\n",
              "var x = new MutationObserver(function (mutations, observer) {{\n",
              "        var display = window.getComputedStyle(gd).display;\n",
              "        if (!display || display === 'none') {{\n",
              "            console.log([gd, 'removed!']);\n",
              "            Plotly.purge(gd);\n",
              "            observer.disconnect();\n",
              "        }}\n",
              "}});\n",
              "\n",
              "// Listen for the removal of the full notebook cells\n",
              "var notebookContainer = gd.closest('#notebook-container');\n",
              "if (notebookContainer) {{\n",
              "    x.observe(notebookContainer, {childList: true});\n",
              "}}\n",
              "\n",
              "// Listen for the clearing of the current output cell\n",
              "var outputEl = gd.closest('.output');\n",
              "if (outputEl) {{\n",
              "    x.observe(outputEl, {childList: true});\n",
              "}}\n",
              "\n",
              "                        })\n",
              "                };\n",
              "                });\n",
              "            </script>\n",
              "        </div>"
            ]
          },
          "metadata": {
            "tags": []
          }
        }
      ]
    },
    {
      "cell_type": "code",
      "metadata": {
        "id": "ZLbDsZPP7x9p",
        "colab_type": "code",
        "colab": {}
      },
      "source": [
        ""
      ],
      "execution_count": 0,
      "outputs": []
    }
  ]
}