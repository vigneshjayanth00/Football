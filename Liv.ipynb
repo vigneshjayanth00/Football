{
  "nbformat": 4,
  "nbformat_minor": 0,
  "metadata": {
    "kernelspec": {
      "display_name": "Python 3",
      "language": "python",
      "name": "python3"
    },
    "language_info": {
      "codemirror_mode": {
        "name": "ipython",
        "version": 3
      },
      "file_extension": ".py",
      "mimetype": "text/x-python",
      "name": "python",
      "nbconvert_exporter": "python",
      "pygments_lexer": "ipython3",
      "version": "3.6.9"
    },
    "colab": {
      "name": "Liv.ipynb",
      "provenance": [],
      "include_colab_link": true
    }
  },
  "cells": [
    {
      "cell_type": "markdown",
      "metadata": {
        "id": "view-in-github",
        "colab_type": "text"
      },
      "source": [
        "<a href=\"https://colab.research.google.com/github/vigneshjayanth00/Football/blob/master/Liv.ipynb\" target=\"_parent\"><img src=\"https://colab.research.google.com/assets/colab-badge.svg\" alt=\"Open In Colab\"/></a>"
      ]
    },
    {
      "cell_type": "code",
      "metadata": {
        "id": "_k2LJeUoV7nU",
        "colab_type": "code",
        "colab": {}
      },
      "source": [
        "import pandas as pd\n",
        "import json\n",
        "import glob\n",
        "import numpy as np\n",
        "import pandas as pd\n",
        "from pandas.io.json import json_normalize \n",
        "import fns1\n",
        "from tqdm import tqdm\n"
      ],
      "execution_count": 0,
      "outputs": []
    },
    {
      "cell_type": "code",
      "metadata": {
        "id": "AR786gGlV7nZ",
        "colab_type": "code",
        "colab": {}
      },
      "source": [
        "\n",
        "def flatten_json(y):\n",
        "    out = {}\n",
        "\n",
        "    def flatten(x, name=''):\n",
        "        if type(x) is dict:\n",
        "            for a in x:\n",
        "                flatten(x[a], name + a + '_')\n",
        "        elif type(x) is list:\n",
        "            i = 0\n",
        "            for a in x:\n",
        "                flatten(a, name + str(i) + '_')\n",
        "                i += 1\n",
        "        else:\n",
        "            out[name[:-1]] = x\n",
        "    flatten(y)\n",
        "    return out"
      ],
      "execution_count": 0,
      "outputs": []
    },
    {
      "cell_type": "code",
      "metadata": {
        "id": "geAbFkonV7nc",
        "colab_type": "code",
        "colab": {}
      },
      "source": [
        "\n",
        "# loop through each JSON file parse the data and save the parse data to CSV- events\n",
        "    with open(r'C:\\Users\\Home\\Documents\\Statsbomb\\Statsbomb Data\\PL19_20\\PL19_20EventsJSON.json', encoding='utf-8-sig') as f_input:\n",
        "        events = pd.read_json(f_input)\n",
        "# loop through each JSON file parse the data and save the parse data to CSV- lineups\n",
        "    with open(r'C:\\Users\\Home\\Documents\\Statsbomb\\Statsbomb Data\\PL19_20\\PL19_20LineupsJSON.json', encoding='utf-8-sig') as f_input:\n",
        "        lineups = pd.read_json(f_input)\n",
        "# loop through each JSON file parse the data and save the parse data to CSV-matches\n",
        "    with open(r'C:\\Users\\Home\\Documents\\Statsbomb\\Statsbomb Data\\PL19_20\\PL19_20matchesJSON.json', encoding='utf-8-sig') as f_input:\n",
        "        matches = pd.read_json(f_input)\n"
      ],
      "execution_count": 0,
      "outputs": []
    },
    {
      "cell_type": "code",
      "metadata": {
        "id": "9BHKSje-V7nf",
        "colab_type": "code",
        "colab": {}
      },
      "source": [
        "Start_events=[35,18]\n",
        "events2 = events[~(events['type.id'].isin(Start_events))].reset_index(drop=True)\n",
        "\n",
        "def action_locations(row):\n",
        "    \n",
        "    if row['pass.end_location'] != {}:\n",
        "        return row['pass.end_location']\n",
        "    if row['carry.end_location'] != {}:\n",
        "        return row['carry.end_location']\n",
        "    if row['shot.end_location'] != {}:\n",
        "        return row['shot.end_location']\n",
        "    return row['location']\n",
        "\n",
        "events2['action_end_locations']=events2.apply(action_locations,axis=1).reset_index(drop=True)\n",
        "events2[['action_end_x','action_end_y','action_end_z']]=events2['action_end_locations'].apply(pd.Series)\n",
        "events2[['action_start_x','action_start_y']]=events2['location'].apply(pd.Series)\n",
        "\n"
      ],
      "execution_count": 0,
      "outputs": []
    },
    {
      "cell_type": "code",
      "metadata": {
        "id": "811rsyhnV7ni",
        "colab_type": "code",
        "colab": {}
      },
      "source": [
        "events2.to_csv(r'C:\\Users\\Home\\Documents\\StatsBomb_Sorted.csv')\n"
      ],
      "execution_count": 0,
      "outputs": []
    },
    {
      "cell_type": "code",
      "metadata": {
        "id": "F1v-aLWqV7nm",
        "colab_type": "code",
        "colab": {},
        "outputId": "c09ff635-89cf-4e26-99d5-4401f02aa1aa"
      },
      "source": [
        "events2['pass.end_location'].dtype"
      ],
      "execution_count": 0,
      "outputs": [
        {
          "output_type": "execute_result",
          "data": {
            "text/plain": [
              "dtype('O')"
            ]
          },
          "metadata": {
            "tags": []
          },
          "execution_count": 15
        }
      ]
    },
    {
      "cell_type": "code",
      "metadata": {
        "scrolled": true,
        "id": "9CMMvOtSV7nr",
        "colab_type": "code",
        "colab": {},
        "outputId": "8d1617b2-7592-4e53-8670-d334ff70d831"
      },
      "source": [
        "Match_list=list(Liv['match_id'].unique())\n",
        "matches1=matches[matches['match_id'].isin(Match_list)]\n",
        "matches1"
      ],
      "execution_count": 0,
      "outputs": [
        {
          "output_type": "execute_result",
          "data": {
            "text/html": [
              "<div>\n",
              "<style scoped>\n",
              "    .dataframe tbody tr th:only-of-type {\n",
              "        vertical-align: middle;\n",
              "    }\n",
              "\n",
              "    .dataframe tbody tr th {\n",
              "        vertical-align: top;\n",
              "    }\n",
              "\n",
              "    .dataframe thead th {\n",
              "        text-align: right;\n",
              "    }\n",
              "</style>\n",
              "<table border=\"1\" class=\"dataframe\">\n",
              "  <thead>\n",
              "    <tr style=\"text-align: right;\">\n",
              "      <th></th>\n",
              "      <th>match_id</th>\n",
              "      <th>match_date</th>\n",
              "      <th>kick_off</th>\n",
              "      <th>home_score</th>\n",
              "      <th>away_score</th>\n",
              "      <th>match_status</th>\n",
              "      <th>last_updated</th>\n",
              "      <th>match_week</th>\n",
              "      <th>competition.competition_id</th>\n",
              "      <th>competition.country_name</th>\n",
              "      <th>...</th>\n",
              "      <th>competition_stage.id</th>\n",
              "      <th>competition_stage.name</th>\n",
              "      <th>stadium.id</th>\n",
              "      <th>stadium.name</th>\n",
              "      <th>stadium.country.id</th>\n",
              "      <th>stadium.country.name</th>\n",
              "      <th>referee.id</th>\n",
              "      <th>referee.name</th>\n",
              "      <th>referee.country.id</th>\n",
              "      <th>referee.country.name</th>\n",
              "    </tr>\n",
              "  </thead>\n",
              "  <tbody>\n",
              "    <tr>\n",
              "      <th>0</th>\n",
              "      <td>299532</td>\n",
              "      <td>2019-08-31</td>\n",
              "      <td>18:30:00.000</td>\n",
              "      <td>0</td>\n",
              "      <td>3</td>\n",
              "      <td>available</td>\n",
              "      <td>2019-12-16T23:09:16.168756</td>\n",
              "      <td>4</td>\n",
              "      <td>2</td>\n",
              "      <td>England</td>\n",
              "      <td>...</td>\n",
              "      <td>1</td>\n",
              "      <td>Regular Season</td>\n",
              "      <td>225.0</td>\n",
              "      <td>Turf Moor</td>\n",
              "      <td>68.0</td>\n",
              "      <td>England</td>\n",
              "      <td>18.0</td>\n",
              "      <td>C. Kavanagh</td>\n",
              "      <td>68.0</td>\n",
              "      <td>England</td>\n",
              "    </tr>\n",
              "    <tr>\n",
              "      <th>6</th>\n",
              "      <td>299690</td>\n",
              "      <td>2019-11-02</td>\n",
              "      <td>16:00:00.000</td>\n",
              "      <td>1</td>\n",
              "      <td>2</td>\n",
              "      <td>available</td>\n",
              "      <td>2019-12-16T23:09:16.168756</td>\n",
              "      <td>11</td>\n",
              "      <td>2</td>\n",
              "      <td>England</td>\n",
              "      <td>...</td>\n",
              "      <td>1</td>\n",
              "      <td>Regular Season</td>\n",
              "      <td>211.0</td>\n",
              "      <td>Villa Park</td>\n",
              "      <td>68.0</td>\n",
              "      <td>England</td>\n",
              "      <td>3.0</td>\n",
              "      <td>J. Moss</td>\n",
              "      <td>68.0</td>\n",
              "      <td>England</td>\n",
              "    </tr>\n",
              "    <tr>\n",
              "      <th>19</th>\n",
              "      <td>300139</td>\n",
              "      <td>2019-08-17</td>\n",
              "      <td>16:00:00.000</td>\n",
              "      <td>1</td>\n",
              "      <td>2</td>\n",
              "      <td>available</td>\n",
              "      <td>2019-12-16T23:09:16.168756</td>\n",
              "      <td>2</td>\n",
              "      <td>2</td>\n",
              "      <td>England</td>\n",
              "      <td>...</td>\n",
              "      <td>1</td>\n",
              "      <td>Regular Season</td>\n",
              "      <td>NaN</td>\n",
              "      <td>NaN</td>\n",
              "      <td>NaN</td>\n",
              "      <td>NaN</td>\n",
              "      <td>NaN</td>\n",
              "      <td>NaN</td>\n",
              "      <td>NaN</td>\n",
              "      <td>NaN</td>\n",
              "    </tr>\n",
              "    <tr>\n",
              "      <th>21</th>\n",
              "      <td>299527</td>\n",
              "      <td>2019-09-28</td>\n",
              "      <td>13:30:00.000</td>\n",
              "      <td>0</td>\n",
              "      <td>1</td>\n",
              "      <td>available</td>\n",
              "      <td>2019-12-16T23:09:16.168756</td>\n",
              "      <td>7</td>\n",
              "      <td>2</td>\n",
              "      <td>England</td>\n",
              "      <td>...</td>\n",
              "      <td>1</td>\n",
              "      <td>Regular Season</td>\n",
              "      <td>216.0</td>\n",
              "      <td>Bramall Lane</td>\n",
              "      <td>68.0</td>\n",
              "      <td>England</td>\n",
              "      <td>8.0</td>\n",
              "      <td>A. Taylor</td>\n",
              "      <td>68.0</td>\n",
              "      <td>England</td>\n",
              "    </tr>\n",
              "    <tr>\n",
              "      <th>33</th>\n",
              "      <td>299564</td>\n",
              "      <td>2019-10-20</td>\n",
              "      <td>17:30:00.000</td>\n",
              "      <td>1</td>\n",
              "      <td>1</td>\n",
              "      <td>available</td>\n",
              "      <td>2019-12-16T23:09:16.168756</td>\n",
              "      <td>9</td>\n",
              "      <td>2</td>\n",
              "      <td>England</td>\n",
              "      <td>...</td>\n",
              "      <td>1</td>\n",
              "      <td>Regular Season</td>\n",
              "      <td>2.0</td>\n",
              "      <td>Old Trafford</td>\n",
              "      <td>68.0</td>\n",
              "      <td>England</td>\n",
              "      <td>4.0</td>\n",
              "      <td>M. Atkinson</td>\n",
              "      <td>68.0</td>\n",
              "      <td>England</td>\n",
              "    </tr>\n",
              "    <tr>\n",
              "      <th>35</th>\n",
              "      <td>299583</td>\n",
              "      <td>2019-11-10</td>\n",
              "      <td>17:30:00.000</td>\n",
              "      <td>3</td>\n",
              "      <td>1</td>\n",
              "      <td>available</td>\n",
              "      <td>2019-12-16T23:09:16.168756</td>\n",
              "      <td>12</td>\n",
              "      <td>2</td>\n",
              "      <td>England</td>\n",
              "      <td>...</td>\n",
              "      <td>1</td>\n",
              "      <td>Regular Season</td>\n",
              "      <td>6.0</td>\n",
              "      <td>Anfield</td>\n",
              "      <td>68.0</td>\n",
              "      <td>England</td>\n",
              "      <td>1.0</td>\n",
              "      <td>M. Oliver</td>\n",
              "      <td>68.0</td>\n",
              "      <td>England</td>\n",
              "    </tr>\n",
              "    <tr>\n",
              "      <th>56</th>\n",
              "      <td>299813</td>\n",
              "      <td>2019-08-24</td>\n",
              "      <td>18:30:00.000</td>\n",
              "      <td>3</td>\n",
              "      <td>1</td>\n",
              "      <td>available</td>\n",
              "      <td>2019-12-16T23:09:16.168756</td>\n",
              "      <td>3</td>\n",
              "      <td>2</td>\n",
              "      <td>England</td>\n",
              "      <td>...</td>\n",
              "      <td>1</td>\n",
              "      <td>Regular Season</td>\n",
              "      <td>6.0</td>\n",
              "      <td>Anfield</td>\n",
              "      <td>68.0</td>\n",
              "      <td>England</td>\n",
              "      <td>8.0</td>\n",
              "      <td>A. Taylor</td>\n",
              "      <td>68.0</td>\n",
              "      <td>England</td>\n",
              "    </tr>\n",
              "    <tr>\n",
              "      <th>78</th>\n",
              "      <td>299502</td>\n",
              "      <td>2019-08-09</td>\n",
              "      <td>21:00:00.000</td>\n",
              "      <td>4</td>\n",
              "      <td>1</td>\n",
              "      <td>available</td>\n",
              "      <td>2019-12-16T23:09:16.168756</td>\n",
              "      <td>1</td>\n",
              "      <td>2</td>\n",
              "      <td>England</td>\n",
              "      <td>...</td>\n",
              "      <td>1</td>\n",
              "      <td>Regular Season</td>\n",
              "      <td>6.0</td>\n",
              "      <td>Anfield</td>\n",
              "      <td>68.0</td>\n",
              "      <td>England</td>\n",
              "      <td>1.0</td>\n",
              "      <td>M. Oliver</td>\n",
              "      <td>68.0</td>\n",
              "      <td>England</td>\n",
              "    </tr>\n",
              "    <tr>\n",
              "      <th>83</th>\n",
              "      <td>299591</td>\n",
              "      <td>2019-09-14</td>\n",
              "      <td>13:30:00.000</td>\n",
              "      <td>3</td>\n",
              "      <td>1</td>\n",
              "      <td>available</td>\n",
              "      <td>2019-12-16T23:09:16.168756</td>\n",
              "      <td>5</td>\n",
              "      <td>2</td>\n",
              "      <td>England</td>\n",
              "      <td>...</td>\n",
              "      <td>1</td>\n",
              "      <td>Regular Season</td>\n",
              "      <td>6.0</td>\n",
              "      <td>Anfield</td>\n",
              "      <td>68.0</td>\n",
              "      <td>England</td>\n",
              "      <td>5.0</td>\n",
              "      <td>A. Marriner</td>\n",
              "      <td>68.0</td>\n",
              "      <td>England</td>\n",
              "    </tr>\n",
              "    <tr>\n",
              "      <th>87</th>\n",
              "      <td>299546</td>\n",
              "      <td>2019-09-22</td>\n",
              "      <td>17:30:00.000</td>\n",
              "      <td>1</td>\n",
              "      <td>2</td>\n",
              "      <td>available</td>\n",
              "      <td>2019-12-16T23:09:16.168756</td>\n",
              "      <td>6</td>\n",
              "      <td>2</td>\n",
              "      <td>England</td>\n",
              "      <td>...</td>\n",
              "      <td>1</td>\n",
              "      <td>Regular Season</td>\n",
              "      <td>10.0</td>\n",
              "      <td>Stamford Bridge</td>\n",
              "      <td>68.0</td>\n",
              "      <td>England</td>\n",
              "      <td>1.0</td>\n",
              "      <td>M. Oliver</td>\n",
              "      <td>68.0</td>\n",
              "      <td>England</td>\n",
              "    </tr>\n",
              "    <tr>\n",
              "      <th>96</th>\n",
              "      <td>299640</td>\n",
              "      <td>2019-10-05</td>\n",
              "      <td>16:00:00.000</td>\n",
              "      <td>2</td>\n",
              "      <td>1</td>\n",
              "      <td>available</td>\n",
              "      <td>2019-12-16T23:09:16.168756</td>\n",
              "      <td>8</td>\n",
              "      <td>2</td>\n",
              "      <td>England</td>\n",
              "      <td>...</td>\n",
              "      <td>1</td>\n",
              "      <td>Regular Season</td>\n",
              "      <td>6.0</td>\n",
              "      <td>Anfield</td>\n",
              "      <td>68.0</td>\n",
              "      <td>England</td>\n",
              "      <td>18.0</td>\n",
              "      <td>C. Kavanagh</td>\n",
              "      <td>68.0</td>\n",
              "      <td>England</td>\n",
              "    </tr>\n",
              "    <tr>\n",
              "      <th>103</th>\n",
              "      <td>299545</td>\n",
              "      <td>2019-10-27</td>\n",
              "      <td>17:30:00.000</td>\n",
              "      <td>2</td>\n",
              "      <td>1</td>\n",
              "      <td>available</td>\n",
              "      <td>2019-12-16T23:09:16.168756</td>\n",
              "      <td>10</td>\n",
              "      <td>2</td>\n",
              "      <td>England</td>\n",
              "      <td>...</td>\n",
              "      <td>1</td>\n",
              "      <td>Regular Season</td>\n",
              "      <td>6.0</td>\n",
              "      <td>Anfield</td>\n",
              "      <td>68.0</td>\n",
              "      <td>England</td>\n",
              "      <td>8.0</td>\n",
              "      <td>A. Taylor</td>\n",
              "      <td>68.0</td>\n",
              "      <td>England</td>\n",
              "    </tr>\n",
              "  </tbody>\n",
              "</table>\n",
              "<p>12 rows × 38 columns</p>\n",
              "</div>"
            ],
            "text/plain": [
              "     match_id  match_date      kick_off  home_score  away_score match_status  \\\n",
              "0      299532  2019-08-31  18:30:00.000           0           3    available   \n",
              "6      299690  2019-11-02  16:00:00.000           1           2    available   \n",
              "19     300139  2019-08-17  16:00:00.000           1           2    available   \n",
              "21     299527  2019-09-28  13:30:00.000           0           1    available   \n",
              "33     299564  2019-10-20  17:30:00.000           1           1    available   \n",
              "35     299583  2019-11-10  17:30:00.000           3           1    available   \n",
              "56     299813  2019-08-24  18:30:00.000           3           1    available   \n",
              "78     299502  2019-08-09  21:00:00.000           4           1    available   \n",
              "83     299591  2019-09-14  13:30:00.000           3           1    available   \n",
              "87     299546  2019-09-22  17:30:00.000           1           2    available   \n",
              "96     299640  2019-10-05  16:00:00.000           2           1    available   \n",
              "103    299545  2019-10-27  17:30:00.000           2           1    available   \n",
              "\n",
              "                   last_updated  match_week  competition.competition_id  \\\n",
              "0    2019-12-16T23:09:16.168756           4                           2   \n",
              "6    2019-12-16T23:09:16.168756          11                           2   \n",
              "19   2019-12-16T23:09:16.168756           2                           2   \n",
              "21   2019-12-16T23:09:16.168756           7                           2   \n",
              "33   2019-12-16T23:09:16.168756           9                           2   \n",
              "35   2019-12-16T23:09:16.168756          12                           2   \n",
              "56   2019-12-16T23:09:16.168756           3                           2   \n",
              "78   2019-12-16T23:09:16.168756           1                           2   \n",
              "83   2019-12-16T23:09:16.168756           5                           2   \n",
              "87   2019-12-16T23:09:16.168756           6                           2   \n",
              "96   2019-12-16T23:09:16.168756           8                           2   \n",
              "103  2019-12-16T23:09:16.168756          10                           2   \n",
              "\n",
              "    competition.country_name  ... competition_stage.id  \\\n",
              "0                    England  ...                    1   \n",
              "6                    England  ...                    1   \n",
              "19                   England  ...                    1   \n",
              "21                   England  ...                    1   \n",
              "33                   England  ...                    1   \n",
              "35                   England  ...                    1   \n",
              "56                   England  ...                    1   \n",
              "78                   England  ...                    1   \n",
              "83                   England  ...                    1   \n",
              "87                   England  ...                    1   \n",
              "96                   England  ...                    1   \n",
              "103                  England  ...                    1   \n",
              "\n",
              "     competition_stage.name stadium.id     stadium.name stadium.country.id  \\\n",
              "0            Regular Season      225.0        Turf Moor               68.0   \n",
              "6            Regular Season      211.0       Villa Park               68.0   \n",
              "19           Regular Season        NaN              NaN                NaN   \n",
              "21           Regular Season      216.0     Bramall Lane               68.0   \n",
              "33           Regular Season        2.0     Old Trafford               68.0   \n",
              "35           Regular Season        6.0          Anfield               68.0   \n",
              "56           Regular Season        6.0          Anfield               68.0   \n",
              "78           Regular Season        6.0          Anfield               68.0   \n",
              "83           Regular Season        6.0          Anfield               68.0   \n",
              "87           Regular Season       10.0  Stamford Bridge               68.0   \n",
              "96           Regular Season        6.0          Anfield               68.0   \n",
              "103          Regular Season        6.0          Anfield               68.0   \n",
              "\n",
              "    stadium.country.name referee.id  referee.name referee.country.id  \\\n",
              "0                England       18.0   C. Kavanagh               68.0   \n",
              "6                England        3.0       J. Moss               68.0   \n",
              "19                   NaN        NaN           NaN                NaN   \n",
              "21               England        8.0     A. Taylor               68.0   \n",
              "33               England        4.0   M. Atkinson               68.0   \n",
              "35               England        1.0     M. Oliver               68.0   \n",
              "56               England        8.0     A. Taylor               68.0   \n",
              "78               England        1.0     M. Oliver               68.0   \n",
              "83               England        5.0   A. Marriner               68.0   \n",
              "87               England        1.0     M. Oliver               68.0   \n",
              "96               England       18.0   C. Kavanagh               68.0   \n",
              "103              England        8.0     A. Taylor               68.0   \n",
              "\n",
              "     referee.country.name  \n",
              "0                 England  \n",
              "6                 England  \n",
              "19                    NaN  \n",
              "21                England  \n",
              "33                England  \n",
              "35                England  \n",
              "56                England  \n",
              "78                England  \n",
              "83                England  \n",
              "87                England  \n",
              "96                England  \n",
              "103               England  \n",
              "\n",
              "[12 rows x 38 columns]"
            ]
          },
          "metadata": {
            "tags": []
          },
          "execution_count": 14
        }
      ]
    },
    {
      "cell_type": "code",
      "metadata": {
        "id": "MTeJEEfvV7nv",
        "colab_type": "code",
        "colab": {},
        "outputId": "48c046f3-caa2-4fe1-8861-8c07d10ed654"
      },
      "source": [
        "events2=pd.read_csv(r'C:\\Users\\Home\\Documents\\StatsBomb_Sorted.csv')\n"
      ],
      "execution_count": 0,
      "outputs": [
        {
          "output_type": "stream",
          "text": [
            "C:\\Users\\Home\\Anaconda3\\envs\\venv\\lib\\site-packages\\IPython\\core\\interactiveshell.py:3058: DtypeWarning: Columns (117,124,130,132) have mixed types. Specify dtype option on import or set low_memory=False.\n",
            "  interactivity=interactivity, compiler=compiler, result=result)\n"
          ],
          "name": "stderr"
        }
      ]
    },
    {
      "cell_type": "code",
      "metadata": {
        "id": "q8GmE64PV7nz",
        "colab_type": "code",
        "colab": {},
        "outputId": "b20aae55-5a74-4cc1-918d-17c11ed7d7f1"
      },
      "source": [
        "\n",
        "\n",
        "    #Assigning Proxy associated to x-axis (three Vertical zones)\n",
        "    Liv = events2[(events2['team.name']=='Everton')].reset_index(drop=True)\n",
        "    bins = [0,40,80,121]\n",
        "    labels = [\"Safe\",\"Attack\",\"Danger\"]\n",
        "    Liv['x_zone']= pd.cut(Liv['action_start_x'], bins=bins, labels=labels)\n",
        "\n",
        "    bins1 = [0,11,22,55,70,120]\n",
        "    labels1 = [\"Right\",\"Right-Half-Space\",\"Middle\",\"Left-Half-Space\",\"Left\"]\n",
        "    Liv['y_zone']= pd.cut(Liv['action_start_y'], bins=bins1, labels=labels1)\n",
        "\n",
        "    \n",
        "Liv['player.name'].unique()"
      ],
      "execution_count": 0,
      "outputs": [
        {
          "output_type": "execute_result",
          "data": {
            "text/plain": [
              "array(['Dominic Calvert-Lewin', 'Michael Keane',\n",
              "       'Bernard Anício Caldeira Duarte', 'Gylfi Þór Sigurðsson',\n",
              "       'Lucas Digne', 'Morgan Schneiderlin', 'Richarlison de Andrade',\n",
              "       'Séamus Coleman', 'André Filipe Tavares Gomes',\n",
              "       'Yerry Fernando Mina González', nan, 'Jordan Pickford',\n",
              "       'Alex Iwobi', 'Moise Bioty Kean', 'Theo Walcott', 'Fabian Delph',\n",
              "       'Cenk Tosun', 'Tom Davies', 'Djibril Sidibé', 'Mason Holgate',\n",
              "       'Jean-Philippe Gbamin'], dtype=object)"
            ]
          },
          "metadata": {
            "tags": []
          },
          "execution_count": 52
        }
      ]
    },
    {
      "cell_type": "code",
      "metadata": {
        "id": "pB3Ah6L0V7n2",
        "colab_type": "code",
        "colab": {}
      },
      "source": [
        "Liv['Half']=np.where(Liv['action_start_x']>60,'Attacking Half','Defensive Half')\n"
      ],
      "execution_count": 0,
      "outputs": []
    },
    {
      "cell_type": "code",
      "metadata": {
        "id": "pXVxhQk4V7n6",
        "colab_type": "code",
        "colab": {}
      },
      "source": [
        "#Final Third Entries\n",
        "Liv['Final_third_entry']=np.where((Liv['x_zone']=='Danger') & (Liv['x_zone'].shift(1)=='Attack') & (Liv['x_zone'].shift(-1)=='Danger'), 1, 0)\n",
        "Liv['matchid_possession']=Liv['match_id']+Liv['possession']\n",
        "\n",
        "#Direction of passes\n",
        "Liv['Forward_Pass'] = np.where((Liv['type.name']=='Pass') & (Liv['action_start_x'] < Liv['action_end_x']), 1, 0)\n",
        "Liv['Defensive_Pass'] = np.where((Liv['type.name']=='Pass') & (Liv['action_start_x']> Liv['action_end_x']), 1, 0)\n",
        "Liv['Sideway_Pass'] = np.where((Liv['type.name']=='Pass') & (Liv['action_start_x']== Liv['action_end_x']), 1, 0)\n",
        "\n",
        "#First subset Liverpool possessions\n",
        "Liv_poss=Liv[Liv['possession_team.name']=='Everton']\n",
        "\n",
        "##Get all the possession chains where a shot occured\n",
        "Liv_poss_shot_FE_Entry=Liv_poss[(Liv_poss['type.name']=='Shot')|(Liv_poss['Final_third_entry']==1)]\n",
        "poss_shot=list(Liv_poss_shot_FE_Entry['matchid_possession'].unique())\n",
        "\n",
        "#Subset all possessions where a shot occured\n",
        "Liv_poss1=Liv_poss[Liv_poss['matchid_possession'].isin(poss_shot)]\n",
        "\n",
        "#Get the outcome columns as one outcome column\n",
        "outcome_name_cols =[x for x in Liv_poss1.columns[Liv_poss1.columns.str.contains('.outcome.name')]]\n",
        "\n"
      ],
      "execution_count": 0,
      "outputs": []
    },
    {
      "cell_type": "code",
      "metadata": {
        "id": "P63WucTtV7n9",
        "colab_type": "code",
        "colab": {},
        "outputId": "21f578dd-3e9c-487f-f7c0-3c532ec9fef2"
      },
      "source": [
        "Liv_poss1[outcome_name_cols] = Liv_poss1[outcome_name_cols].fillna('')\n",
        "Liv_poss1['outcome'] = Liv_poss1[outcome_name_cols].apply(lambda row: ''.join(row.values.astype(str)), axis=1)\n",
        "Liv_poss1['outcome']=Liv_poss1['outcome'].replace(r'^\\s*$','Unknown', regex=True)\n",
        "Liv_poss1['outcome'].unique()"
      ],
      "execution_count": 0,
      "outputs": [
        {
          "output_type": "stream",
          "text": [
            "C:\\Users\\Home\\Anaconda3\\envs\\venv\\lib\\site-packages\\ipykernel_launcher.py:2: SettingWithCopyWarning: \n",
            "A value is trying to be set on a copy of a slice from a DataFrame.\n",
            "Try using .loc[row_indexer,col_indexer] = value instead\n",
            "\n",
            "See the caveats in the documentation: http://pandas.pydata.org/pandas-docs/stable/user_guide/indexing.html#returning-a-view-versus-a-copy\n",
            "  \n",
            "C:\\Users\\Home\\Anaconda3\\envs\\venv\\lib\\site-packages\\ipykernel_launcher.py:4: SettingWithCopyWarning: \n",
            "A value is trying to be set on a copy of a slice from a DataFrame.\n",
            "Try using .loc[row_indexer,col_indexer] = value instead\n",
            "\n",
            "See the caveats in the documentation: http://pandas.pydata.org/pandas-docs/stable/user_guide/indexing.html#returning-a-view-versus-a-copy\n",
            "  after removing the cwd from sys.path.\n"
          ],
          "name": "stderr"
        },
        {
          "output_type": "execute_result",
          "data": {
            "text/plain": [
              "array(['Unknown', 'Incomplete', 'Blocked', 'Out', 'Complete', 'Won',\n",
              "       'Claim', 'Off T', 'Wayward', 'Success In Play', 'Tactical', 'Post',\n",
              "       'Goal', 'Success', 'Saved', 'Pass Offside', 'Lost In Play',\n",
              "       'Lost Out', 'Injury Clearance', 'Collected Twice', 'Lost',\n",
              "       'Success Out', 'No Touch', 'Saved Twice'], dtype=object)"
            ]
          },
          "metadata": {
            "tags": []
          },
          "execution_count": 63
        }
      ]
    },
    {
      "cell_type": "code",
      "metadata": {
        "id": "Qca1D9jpV7oB",
        "colab_type": "code",
        "colab": {},
        "outputId": "b08d430e-2c76-4fe6-fc5c-cc568ce8da40"
      },
      "source": [
        "e_types= ['Pass', 'Ball Receipt*', 'Carry', 'Dribble', 'Shot']\n",
        "#Subset all possessions with certain attacking event types\n",
        "Liv_poss2=Liv_poss1[Liv_poss1['type.name'].isin(e_types)].reset_index()\n",
        "event_types=list(Liv_poss2['type.name'].unique())\n",
        "event_types\n",
        "possession=list(Liv_poss2['matchid_possession'].unique())\n",
        "\n",
        "Liv_poss2['player.name'].unique()\n"
      ],
      "execution_count": 0,
      "outputs": [
        {
          "output_type": "execute_result",
          "data": {
            "text/plain": [
              "array(['Dominic Calvert-Lewin', 'Richarlison de Andrade',\n",
              "       'Morgan Schneiderlin', 'Bernard Anício Caldeira Duarte',\n",
              "       'Lucas Digne', 'Yerry Fernando Mina González', 'Michael Keane',\n",
              "       'Séamus Coleman', 'Gylfi Þór Sigurðsson',\n",
              "       'André Filipe Tavares Gomes', 'Jordan Pickford', 'Alex Iwobi',\n",
              "       'Moise Bioty Kean', 'Theo Walcott', 'Fabian Delph', 'Cenk Tosun',\n",
              "       'Djibril Sidibé', 'Tom Davies', 'Mason Holgate',\n",
              "       'Jean-Philippe Gbamin'], dtype=object)"
            ]
          },
          "metadata": {
            "tags": []
          },
          "execution_count": 65
        }
      ]
    },
    {
      "cell_type": "code",
      "metadata": {
        "id": "jaW-C0lAV7oE",
        "colab_type": "code",
        "colab": {},
        "outputId": "f49d357e-a26e-4a32-ae22-6d1cb7b95c54"
      },
      "source": [
        "#Liv_OP=Liv[~(Liv['possession_team.name']=='Liverpool')]\n",
        "#Liv_OP.head(100)\n",
        "Liv_poss3=Liv_poss2[['matchid_possession','player.name',\"x_zone\", 'Final_third_entry',\"y_zone\",\"action_start_x\", 'team.name','outcome',\"action_end_y\", \"action_end_x\", \"action_start_y\",'type.name','possession_team.name']]\n",
        "Liv_poss4=Liv_poss3.rename(columns={'action_start_x': 'start_x', 'action_start_y': 'start_y','action_end_x': 'end_x', 'action_end_y': 'end_y','type.name':'actiontype','possession_team.name':'team_name'})\n",
        "Liv_poss4['matchid_possession'].unique()\n",
        "\n"
      ],
      "execution_count": 0,
      "outputs": [
        {
          "output_type": "execute_result",
          "data": {
            "text/plain": [
              "array([299534, 299539, 299540, 299544, 299546, 299548, 299549, 299551,\n",
              "       299553, 299556, 299557, 299560, 299567, 299569, 299572, 299579,\n",
              "       299581, 299585, 299588, 299589, 299594, 299595, 299597, 299599,\n",
              "       299601, 299607, 299609, 299611, 299615, 299619, 299621, 299622,\n",
              "       299626, 299627, 299630, 299633, 299636, 299637, 299641, 299642,\n",
              "       299643, 299646, 299650, 299657, 299658, 299659, 299661, 299662,\n",
              "       299664, 299665, 299666, 299669, 299671, 299672, 299674, 299679,\n",
              "       299680, 299682, 299683, 299684, 299688, 299691, 299693, 299694,\n",
              "       299697, 299698, 299700, 299702, 299706, 299707, 299709, 299771,\n",
              "       299777, 299779, 299780, 299783, 299786, 299788, 299791, 299792,\n",
              "       299796, 299797, 299800, 299802, 299805, 299806, 299811, 299812,\n",
              "       299813, 299815, 299816, 299817, 299818, 299819, 299820, 299824,\n",
              "       299827, 299828, 299829, 299835, 299836, 299837, 299844, 299848,\n",
              "       299850, 299852, 299856, 299857, 299859, 299860, 299862, 299864,\n",
              "       299865, 299869, 299871, 299873, 299879, 299880, 299882, 299885,\n",
              "       299889, 299893, 299901, 299904, 299905, 299907, 299908, 299909,\n",
              "       299911, 299915, 299918, 299921, 299925, 299926, 299927, 299930,\n",
              "       299932, 299934, 299936, 299941, 299943, 299944, 299949, 299950,\n",
              "       299951, 299954, 299957, 299958, 299677, 299681, 299685, 299687,\n",
              "       299689, 299695, 299699, 299708, 299713, 299715, 299716, 299719,\n",
              "       299720, 299721, 299723, 299725, 299726, 299729, 299730, 299732,\n",
              "       299734, 299735, 299739, 299740, 299741, 299742, 299743, 299745,\n",
              "       299746, 299747, 299748, 299749, 299751, 299754, 299756, 299758,\n",
              "       299759, 299760, 299763, 299769, 299770, 299772, 299774, 299775,\n",
              "       299781, 299784, 299789, 299795, 299799, 299804, 299809, 299822,\n",
              "       299823, 299830, 299832, 299833, 299834, 299838, 299839, 299718,\n",
              "       299724, 299727, 299728, 299731, 299738, 299752, 299755, 299766,\n",
              "       299782, 299787, 299790, 299803, 299840, 299842, 299849, 299861,\n",
              "       299863, 299870, 299872, 299875, 299877, 299896, 299902, 299912,\n",
              "       299916, 299924, 299935, 299937, 299939, 299945, 299947, 300120,\n",
              "       300121, 300124, 300126, 300131, 300132, 300134, 300137, 300142,\n",
              "       300145, 300146, 300149, 300150, 300152, 300153, 300156, 300158,\n",
              "       300162, 300163, 300166, 300167, 300168, 300171, 300173, 300175,\n",
              "       300177, 300179, 300182, 300186, 300190, 300193, 300200, 300205,\n",
              "       300207, 300208, 300215, 300218, 300220, 300221, 300224, 300225,\n",
              "       300227, 300228, 300230, 300233, 300235, 300245, 300252, 300253,\n",
              "       300255, 300259, 300260, 300261, 300263, 300266, 300268, 300269,\n",
              "       300272, 300274, 300277, 300280, 300282, 300289, 300292, 300300,\n",
              "       300113, 300114, 300122, 300129, 300136, 300141, 300143, 300147,\n",
              "       300148, 300154, 300164, 300180, 300187, 300199, 300202, 300209,\n",
              "       300211, 300238, 300239, 300242, 300246, 300247, 300256, 300264,\n",
              "       300267, 300286, 300296, 300302, 300305, 300308, 300135, 300181,\n",
              "       300194, 300270, 300284, 300318, 300319, 300320, 299710, 299722,\n",
              "       299737, 299765, 299801, 299847, 299855, 299874, 299692, 299703,\n",
              "       299714, 299764, 299767, 299776, 299793, 299858, 299866, 299843,\n",
              "       299881, 299845, 299898, 299906, 299952, 299956, 299963, 299967,\n",
              "       299969, 299970, 299977, 299980, 299992, 299999, 300001, 300004,\n",
              "       300007, 300009, 299528, 299552, 299566, 299568, 299575, 299584,\n",
              "       299590, 299600, 299612, 299614, 299618, 299631, 299644, 299649,\n",
              "       299651, 299660, 299668, 299678], dtype=int64)"
            ]
          },
          "metadata": {
            "tags": []
          },
          "execution_count": 68
        }
      ]
    },
    {
      "cell_type": "code",
      "metadata": {
        "id": "wZMFIb3eV7oI",
        "colab_type": "code",
        "colab": {}
      },
      "source": [
        "Liv_poss4['Final_third_entry1']=Liv_poss4['Final_third_entry'].shift(-1)\n",
        "Liv_poss4['Final_third_entry2']=Liv_poss4['Final_third_entry'].shift(-2)\n",
        "Liv_poss4['Final_third_entry3']=Liv_poss4['Final_third_entry'].shift(-3)\n",
        "Liv_poss4['Final_third_entry4']=Liv_poss4['Final_third_entry'].shift(-4)\n",
        "Liv_poss4['Final_third_entry5']=Liv_poss4['Final_third_entry'].shift(-5)\n",
        "Liv_poss4['Final_third_entry_final']=Liv_poss4['Final_third_entry']+Liv_poss4['Final_third_entry1']+Liv_poss4['Final_third_entry2']+Liv_poss4['Final_third_entry3']+Liv_poss4['Final_third_entry4']+Liv_poss4['Final_third_entry5']\n",
        "Liv_poss4=Liv_poss4.reset_index()"
      ],
      "execution_count": 0,
      "outputs": []
    },
    {
      "cell_type": "code",
      "metadata": {
        "id": "iOWHJfocV7oL",
        "colab_type": "code",
        "colab": {},
        "outputId": "18742a3e-108a-4223-a017-f773b0a07a57"
      },
      "source": [
        "import matplotsoccer1\n",
        "\n",
        "import plotsoccer2\n",
        "import math\n",
        "#Liv_poss_check2=Liv_poss4[(Liv_poss4['matchid_possession']==299852) & (Liv_poss4['Final_third_entry_final']==1)]\n",
        "\n",
        "#Liv_poss_check2=Liv_poss_check1.iloc[:8,:]\n",
        "Liv_poss_shot=Liv_poss4[(Liv_poss4['actiontype']=='Shot')]\n",
        "Liv_poss_shot['matchid_possession'].unique()\n"
      ],
      "execution_count": 0,
      "outputs": [
        {
          "output_type": "execute_result",
          "data": {
            "text/plain": [
              "array([299548, 299549, 299588, 299607, 299621, 299643, 299665, 299672,\n",
              "       299684, 299694, 299702, 299707, 299777, 299780, 299792, 299797,\n",
              "       299837, 299879, 299909, 299926, 299927, 299934, 299936, 299943,\n",
              "       299944, 299954, 299677, 299687, 299689, 299698, 299721, 299723,\n",
              "       299743, 299747, 299748, 299772, 299781, 299809, 299839, 299719,\n",
              "       299740, 299755, 299758, 299766, 299803, 299850, 299873, 299880,\n",
              "       299889, 299915, 299925, 299935, 299945, 300120, 300121, 300132,\n",
              "       300142, 300146, 300168, 300175, 300177, 300179, 300220, 300221,\n",
              "       300225, 300235, 300259, 300261, 300263, 300268, 300269, 300274,\n",
              "       300280, 300114, 300143, 300187, 300224, 300242, 300256, 300137,\n",
              "       300145, 300147, 300149, 300181, 300208, 300253, 300284, 300296,\n",
              "       300308, 300320, 299688, 299713, 299718, 299720, 299760, 299775,\n",
              "       299782, 299783, 299847, 299865, 299871, 299695, 299716, 299756,\n",
              "       299765, 299790, 299796, 299829, 299833, 299836, 299703, 299728,\n",
              "       299742, 299820, 299842, 299848, 299818, 299822, 299857, 299877,\n",
              "       299905, 299912, 299916, 299970, 299572, 299579, 299584, 299600,\n",
              "       299636, 299668, 299691], dtype=int64)"
            ]
          },
          "metadata": {
            "tags": []
          },
          "execution_count": 71
        }
      ]
    },
    {
      "cell_type": "code",
      "metadata": {
        "id": "lOBwQxTcV7oP",
        "colab_type": "code",
        "colab": {}
      },
      "source": [
        "Liv_poss_check2=Liv_poss4[Liv_poss4['matchid_possession']==299916]\n",
        "Liv_poss_check2=Liv_poss_check2[Liv_poss_check2['actiontype']!='Ball Receipt*']\n",
        "#Liv_poss_check2=Liv_poss_check2.iloc[:8,:]\n"
      ],
      "execution_count": 0,
      "outputs": []
    },
    {
      "cell_type": "code",
      "metadata": {
        "id": "l80S6S-3V7oS",
        "colab_type": "code",
        "colab": {}
      },
      "source": [
        "#Converting into SPADL format\n",
        "\n",
        "field_length: float = 105.0  # unit: meters\n",
        "field_width: float = 68.0  # unit: meters\n",
        "    \n",
        "Liv_poss_check2[\"start_x\"] = ((Liv_poss_check2[\"start_x\"] - 1) / 119) * field_length\n",
        "Liv_poss_check2[\"start_y\"] = 68 - ((Liv_poss_check2[\"start_y\"] - 1) / 79) * field_width\n",
        "\n",
        "Liv_poss_check2[\"end_x\"] = ((Liv_poss_check2[\"end_x\"] - 1) / 119) * field_length\n",
        "Liv_poss_check2[\"end_y\"] = 68 - ((Liv_poss_check2[\"end_y\"] - 1) / 79) * field_width"
      ],
      "execution_count": 0,
      "outputs": []
    },
    {
      "cell_type": "code",
      "metadata": {
        "id": "y_nB2d0RV7oZ",
        "colab_type": "code",
        "colab": {},
        "outputId": "fc12e70c-393c-44cc-b1f6-faa90a5f3f35"
      },
      "source": [
        "fns1.actions(\n",
        "    location=Liv_poss_check2[[\"start_x\", \"start_y\", \"end_x\", \"end_y\"]],\n",
        "    action_type=Liv_poss_check2.actiontype,\n",
        "    team=Liv_poss_check2.team_name,\n",
        "    color=\"white\",\n",
        "    figsize=12,\n",
        "    result= Liv_poss_check2.outcome == \"\",\n",
        "    label=Liv_poss_check2[[\"x_zone\", \"y_zone\",'actiontype','player.name']],\n",
        "    labeltitle=[\"Progression\",\"Vertical Zones\",'Action','Player Name'],\n",
        "    zoom=False\n",
        ")\n",
        "\n",
        "\n",
        "\n"
      ],
      "execution_count": 0,
      "outputs": [
        {
          "output_type": "display_data",
          "data": {
            "image/png": "[encoded data removed]",
            "text/plain": [
              "<Figure size 864x576 with 1 Axes>"
            ]
          },
          "metadata": {
            "tags": [],
            "needs_background": "light"
          }
        }
      ]
    },
    {
      "cell_type": "code",
      "metadata": {
        "id": "A50Q6rORV7oc",
        "colab_type": "code",
        "colab": {}
      },
      "source": [
        ""
      ],
      "execution_count": 0,
      "outputs": []
    },
    {
      "cell_type": "code",
      "metadata": {
        "id": "utrXbNXrV7oe",
        "colab_type": "code",
        "colab": {}
      },
      "source": [
        ""
      ],
      "execution_count": 0,
      "outputs": []
    }
  ]
}