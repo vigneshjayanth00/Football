{
  "nbformat": 4,
  "nbformat_minor": 0,
  "metadata": {
    "kernelspec": {
      "display_name": "Python 3",
      "language": "python",
      "name": "python3"
    },
    "language_info": {
      "codemirror_mode": {
        "name": "ipython",
        "version": 3
      },
      "file_extension": ".py",
      "mimetype": "text/x-python",
      "name": "python",
      "nbconvert_exporter": "python",
      "pygments_lexer": "ipython3",
      "version": "3.6.9"
    },
    "colab": {
      "name": "Data Cleaning- Categorical Variables.ipynb",
      "provenance": [],
      "include_colab_link": true
    }
  },
  "cells": [
    {
      "cell_type": "markdown",
      "metadata": {
        "id": "view-in-github",
        "colab_type": "text"
      },
      "source": [
        "<a href=\"https://colab.research.google.com/github/vigneshjayanth00/Football/blob/master/Data_Cleaning_Categorical_Variables.ipynb\" target=\"_parent\"><img src=\"https://colab.research.google.com/assets/colab-badge.svg\" alt=\"Open In Colab\"/></a>"
      ]
    },
    {
      "cell_type": "code",
      "metadata": {
        "id": "OUZstj2H7j0I",
        "colab_type": "code",
        "colab": {}
      },
      "source": [
        "import numpy as np\n",
        "import pandas as pd\n",
        "# Wilcoxon signed-rank test\n",
        "from numpy.random import seed\n",
        "from numpy.random import randn\n",
        "from scipy.stats import wilcoxon\n",
        "import matplotlib.pyplot as plt\n",
        "import seaborn as sns\n",
        "\n",
        "#importing the libraries\n",
        "from keras.models import Sequential\n",
        "from keras.layers import Dense\n",
        "from keras.layers import LSTM\n",
        "from matplotlib import pyplot\n",
        "from numpy import array\n",
        "from sklearn.model_selection import StratifiedKFold\n",
        "from sklearn.model_selection import cross_val_score\n",
        "\n",
        "from sklearn.metrics import f1_score\n",
        "from sklearn.metrics import auc\n",
        "from matplotlib import pyplot\n",
        "from sklearn.metrics import precision_recall_curve\n",
        "from sklearn.metrics import accuracy_score\n",
        "from sklearn.metrics import confusion_matrix"
      ],
      "execution_count": 0,
      "outputs": []
    },
    {
      "cell_type": "code",
      "metadata": {
        "id": "6zkXDMyU7j0N",
        "colab_type": "code",
        "colab": {}
      },
      "source": [
        "data=pd.read_csv(r'C:\\Users\\Home\\Downloads\\All Fifa Datasets\\Updated Dataset after Cleaning\\Updated1.csv')"
      ],
      "execution_count": 0,
      "outputs": []
    },
    {
      "cell_type": "code",
      "metadata": {
        "id": "pkzU7h6t7j0R",
        "colab_type": "code",
        "colab": {},
        "outputId": "91d833d0-57ec-4847-bd97-1c5958831c7b"
      },
      "source": [
        "#Comparing Players value and players wages\n",
        "# generate two independent samples from data\n",
        "data1 = data['value_eur']\n",
        "data2 = data['wage_eur']\n",
        "# compare samples\n",
        "stat, p = wilcoxon(data1, data2)\n",
        "print('Statistics=%.3f, p=%.3f' % (stat, p))\n",
        "# interpret\n",
        "alpha = 0.05\n",
        "if p > alpha:\n",
        "    print('Same distribution (fail to reject H0)')\n",
        "else:\n",
        "    print('Different distribution (reject H0)')"
      ],
      "execution_count": 0,
      "outputs": [
        {
          "output_type": "stream",
          "text": [
            "Statistics=19194.000, p=0.000\n",
            "Different distribution (reject H0)\n"
          ],
          "name": "stdout"
        }
      ]
    },
    {
      "cell_type": "code",
      "metadata": {
        "id": "lp7ksOfq7j0W",
        "colab_type": "code",
        "colab": {},
        "outputId": "05335799-0720-4acd-84b8-fda1d88750a9"
      },
      "source": [
        "#Encoding Ordinal Categorical Variables: Work Rate and Body Type\n",
        "Dict={ 'High/Medium':2,'Medium/Low':6, 'Medium/Medium':5, 'High/High':1,\n",
        "       'High/Low':3, 'Medium/High':4, 'Low/High':7, 'Low/Medium':8, 'Low/Low':9}\n",
        "\n",
        "data['work_rate']=data['work_rate'].map(Dict)\n",
        "data.work_rate.unique()"
      ],
      "execution_count": 0,
      "outputs": [
        {
          "output_type": "execute_result",
          "data": {
            "text/plain": [
              "array([2, 6, 5, 1, 3, 4, 7, 8, 9], dtype=int64)"
            ]
          },
          "metadata": {
            "tags": []
          },
          "execution_count": 118
        }
      ]
    },
    {
      "cell_type": "code",
      "metadata": {
        "id": "1ivUNHKA7j0Z",
        "colab_type": "code",
        "colab": {}
      },
      "source": [
        "del data['body_type']\n",
        "del data['Unnamed: 0']\n",
        "del data['nationality']\n",
        "del data['Year']"
      ],
      "execution_count": 0,
      "outputs": []
    },
    {
      "cell_type": "code",
      "metadata": {
        "id": "4kFS9Pld7j0d",
        "colab_type": "code",
        "colab": {}
      },
      "source": [
        "df1=pd.get_dummies(data,prefix=['PF'],columns=['preferred_foot'])\n",
        "del df1['club']\n",
        "del df1['team_position']\n",
        "df2 = df1.drop('short_name', 1)"
      ],
      "execution_count": 0,
      "outputs": []
    },
    {
      "cell_type": "code",
      "metadata": {
        "id": "s9XDTCo47j0g",
        "colab_type": "code",
        "colab": {},
        "outputId": "ca30b981-1b07-4caf-efd8-c5613080a8ae"
      },
      "source": [
        "bins = [40, 50, 65, 70,75, 80,85, 90, 100]\n",
        "labels=['40+','50+','65+','70+','75+','80+','85+','90+']\n",
        "df1['Overall_Rating_Class'] = pd.cut(df1['overall'], bins,labels=labels).astype(str)\n",
        "df1['Overall_Rating_Class']\n"
      ],
      "execution_count": 0,
      "outputs": [
        {
          "output_type": "execute_result",
          "data": {
            "text/plain": [
              "0        90+\n",
              "1        90+\n",
              "2        90+\n",
              "3        90+\n",
              "4        90+\n",
              "        ... \n",
              "97334    50+\n",
              "97335    50+\n",
              "97336    50+\n",
              "97337    50+\n",
              "97338    90+\n",
              "Name: Overall_Rating_Class, Length: 97339, dtype: object"
            ]
          },
          "metadata": {
            "tags": []
          },
          "execution_count": 184
        }
      ]
    },
    {
      "cell_type": "code",
      "metadata": {
        "id": "mFuIAyk17j0k",
        "colab_type": "code",
        "colab": {},
        "outputId": "9eb63813-0678-476e-c7ea-d8979de324d5"
      },
      "source": [
        "df1['overall'].hist()"
      ],
      "execution_count": 0,
      "outputs": [
        {
          "output_type": "execute_result",
          "data": {
            "text/plain": [
              "<matplotlib.axes._subplots.AxesSubplot at 0x25105c91400>"
            ]
          },
          "metadata": {
            "tags": []
          },
          "execution_count": 149
        },
        {
          "output_type": "display_data",
          "data": {
            "image/png": "[encoded data removed]",
            "text/plain": [
              "<Figure size 432x288 with 1 Axes>"
            ]
          },
          "metadata": {
            "tags": [],
            "needs_background": "light"
          }
        }
      ]
    },
    {
      "cell_type": "code",
      "metadata": {
        "id": "08tf7Bj17j0n",
        "colab_type": "code",
        "colab": {}
      },
      "source": [
        "#Target and Features\n",
        "Names= df1['short_name'].reset_index(drop=True)\n",
        "Target=df1['Overall_Rating_Class'].reset_index(drop=True)\n",
        "Features=df1.drop('overall', 1).reset_index(drop=True)\n",
        "del Features['short_name']\n",
        "del Features['Overall_Rating_Class']\n"
      ],
      "execution_count": 0,
      "outputs": []
    },
    {
      "cell_type": "code",
      "metadata": {
        "id": "3YQJbztK7j0r",
        "colab_type": "code",
        "colab": {}
      },
      "source": [
        "# encode class values as integers\n",
        "encoder = LabelEncoder()\n",
        "encoder.fit(Target)\n",
        "Target1 = encoder.transform(Target)\n",
        "# convert integers to dummy variables (i.e. one hot encoded)\n",
        "Target1_1 = np_utils.to_categorical(Target1)\n",
        "\n",
        "Target2=Target1_1\n",
        "Features1=Features"
      ],
      "execution_count": 0,
      "outputs": []
    },
    {
      "cell_type": "code",
      "metadata": {
        "id": "cHHtV2fF7j0u",
        "colab_type": "code",
        "colab": {}
      },
      "source": [
        "###### Fitting a Neural Network ###################\n",
        "\n",
        "from sklearn.model_selection import train_test_split\n",
        "from sklearn.preprocessing import MinMaxScaler\n",
        "from sklearn.model_selection import cross_val_score\n",
        "from sklearn.model_selection import KFold\n",
        "from sklearn.preprocessing import LabelEncoder\n",
        "from keras.models import Sequential\n",
        "from keras.layers import Dense\n",
        "from keras.wrappers.scikit_learn import KerasClassifier\n",
        "from keras.utils import np_utils\n",
        "\n",
        "\n",
        "\n",
        "# Split data into training and test sets\n",
        "X_train, X_test, y_train, y_test = train_test_split(Features1, Target2,\n",
        "                                                    test_size = 0.35, random_state = 3)\n",
        "\n",
        "\n",
        "# Normalize feature data\n",
        "scaler = MinMaxScaler()\n",
        "\n",
        "X_train_scaled = scaler.fit_transform(X_train)\n",
        "X_test_scaled = scaler.transform(X_test)\n",
        "\n",
        "# define baseline model\n",
        "def baseline_model():\n",
        "    # create model\n",
        "    model = Sequential()\n",
        "    model.add(Dense(32, input_dim=73, activation='relu'))\n",
        "    model.add(Dense(16, activation='relu'))\n",
        "    model.add(Dense(12, activation='relu'))\n",
        "    model.add(Dense(9, activation='softmax'))\n",
        "    # Compile model\n",
        "    model.compile(loss='categorical_crossentropy', optimizer='adam', metrics=['accuracy'])\n",
        "    return model\n",
        " \n",
        "estimator = KerasClassifier(build_fn=baseline_model, epochs=200, batch_size=5, verbose=0)\n",
        "kfold = KFold(n_splits=10, shuffle=True)\n",
        "results = cross_val_score(estimator, X_test, y_test, cv=kfold)\n",
        "\n"
      ],
      "execution_count": 0,
      "outputs": []
    },
    {
      "cell_type": "code",
      "metadata": {
        "id": "Q-dLIJa77j0x",
        "colab_type": "code",
        "colab": {},
        "outputId": "45577e1d-1134-49f9-cb6a-571cd2cbb20e"
      },
      "source": [
        "print(\"Baseline: %.2f%% (%.2f%%)\" % (results.mean()*100, results.std()*100))"
      ],
      "execution_count": 0,
      "outputs": [
        {
          "output_type": "stream",
          "text": [
            "Baseline: 47.20% (0.87%)\n"
          ],
          "name": "stdout"
        }
      ]
    },
    {
      "cell_type": "code",
      "metadata": {
        "id": "nLLblkqp7j00",
        "colab_type": "code",
        "colab": {},
        "outputId": "4801367d-8788-4233-c982-5dcbd11d157c"
      },
      "source": [
        "results"
      ],
      "execution_count": 0,
      "outputs": [
        {
          "output_type": "execute_result",
          "data": {
            "text/plain": [
              "array([nan, nan, nan, nan, nan, nan, nan, nan, nan, nan])"
            ]
          },
          "metadata": {
            "tags": []
          },
          "execution_count": 199
        }
      ]
    },
    {
      "cell_type": "code",
      "metadata": {
        "id": "izLXUMYj7j03",
        "colab_type": "code",
        "colab": {}
      },
      "source": [
        "y_train_pred = model.predict(X_train)"
      ],
      "execution_count": 0,
      "outputs": []
    },
    {
      "cell_type": "code",
      "metadata": {
        "id": "75CjGpvE7j06",
        "colab_type": "code",
        "colab": {},
        "outputId": "6a43203e-8a3a-455a-dc3b-35d9af46e718"
      },
      "source": [
        "model.summary()"
      ],
      "execution_count": 0,
      "outputs": [
        {
          "output_type": "stream",
          "text": [
            "Model: \"sequential_9\"\n",
            "_________________________________________________________________\n",
            "Layer (type)                 Output Shape              Param #   \n",
            "=================================================================\n",
            "dense_25 (Dense)             (None, 4)                 296       \n",
            "_________________________________________________________________\n",
            "dense_26 (Dense)             (None, 4)                 20        \n",
            "_________________________________________________________________\n",
            "dense_27 (Dense)             (None, 1)                 5         \n",
            "=================================================================\n",
            "Total params: 321\n",
            "Trainable params: 321\n",
            "Non-trainable params: 0\n",
            "_________________________________________________________________\n"
          ],
          "name": "stdout"
        }
      ]
    },
    {
      "cell_type": "code",
      "metadata": {
        "id": "hXPw_DjF7j09",
        "colab_type": "code",
        "colab": {},
        "outputId": "3bb91edb-778d-4a99-9cd3-45513490c824"
      },
      "source": [
        "from sklearn.metrics import mean_squared_error\n",
        "\n",
        "mean_squared_error(y_test, y_pred,multioutput='raw_values')"
      ],
      "execution_count": 0,
      "outputs": [
        {
          "output_type": "execute_result",
          "data": {
            "text/plain": [
              "array([2.22612128e+15])"
            ]
          },
          "metadata": {
            "tags": []
          },
          "execution_count": 115
        }
      ]
    },
    {
      "cell_type": "code",
      "metadata": {
        "id": "VwoPdw427j1A",
        "colab_type": "code",
        "colab": {}
      },
      "source": [
        "#First need to seperate midfielders, strikers and defenders\n",
        "\n",
        "Attacking_positions=['LW','RW','ST','SUB','RS','LS','CF','RES','RF','LF']\n",
        "Defensive_positions=['SUB','LCB','RCB','RB','LB','RES','CB','RWB','LWB']\n",
        "Midfield_positions=['CAM','RCM','LM','SUB','LCM','RM','LDM','RDM','CDM','CM','RES','RAM','LAM']"
      ],
      "execution_count": 0,
      "outputs": []
    },
    {
      "cell_type": "code",
      "metadata": {
        "id": "gbhjR2WS7j1D",
        "colab_type": "code",
        "colab": {},
        "outputId": "afa6bd4a-4e21-4905-b2e5-0dc4003a979f"
      },
      "source": [
        ""
      ],
      "execution_count": 0,
      "outputs": [
        {
          "output_type": "stream",
          "text": [
            "(75534, 76)\n",
            "(67478, 76)\n",
            "(76237, 76)\n"
          ],
          "name": "stdout"
        }
      ]
    },
    {
      "cell_type": "code",
      "metadata": {
        "id": "fHbSJo937j1H",
        "colab_type": "code",
        "colab": {}
      },
      "source": [
        ""
      ],
      "execution_count": 0,
      "outputs": []
    },
    {
      "cell_type": "code",
      "metadata": {
        "id": "QjO94hsA7j1K",
        "colab_type": "code",
        "colab": {}
      },
      "source": [
        ""
      ],
      "execution_count": 0,
      "outputs": []
    }
  ]
}