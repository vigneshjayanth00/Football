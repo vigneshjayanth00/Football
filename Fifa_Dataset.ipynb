{
  "nbformat": 4,
  "nbformat_minor": 0,
  "metadata": {
    "kernelspec": {
      "display_name": "Python 3",
      "language": "python",
      "name": "python3"
    },
    "language_info": {
      "codemirror_mode": {
        "name": "ipython",
        "version": 3
      },
      "file_extension": ".py",
      "mimetype": "text/x-python",
      "name": "python",
      "nbconvert_exporter": "python",
      "pygments_lexer": "ipython3",
      "version": "3.6.9"
    },
    "colab": {
      "name": "Fifa Dataset.ipynb",
      "provenance": [],
      "include_colab_link": true
    }
  },
  "cells": [
    {
      "cell_type": "markdown",
      "metadata": {
        "id": "view-in-github",
        "colab_type": "text"
      },
      "source": [
        "<a href=\"https://colab.research.google.com/github/vigneshjayanth00/Football/blob/master/Fifa_Dataset.ipynb\" target=\"_parent\"><img src=\"https://colab.research.google.com/assets/colab-badge.svg\" alt=\"Open In Colab\"/></a>"
      ]
    },
    {
      "cell_type": "code",
      "metadata": {
        "id": "m0gcAoJb764j",
        "colab_type": "code",
        "colab": {},
        "outputId": "e1dd0a2b-87c5-427f-c6b0-f00b64239903"
      },
      "source": [
        "import numpy as np\n",
        "import pandas as pd\n",
        "from IPython.display import Markdown\n",
        "from scipy import stats\n",
        "\n",
        "'''Seaborn and Matplotlib Visualization'''\n",
        "import matplotlib.pyplot as plt\n",
        "import seaborn as sns\n",
        "plt.style.use('bmh')                    \n",
        "%matplotlib inline\n",
        "from DataFrameImputer import DataFrameImputer as DFI\n",
        "'''plotly Visualization'''\n",
        "import plotly.offline as py\n",
        "from plotly.offline import iplot, init_notebook_mode\n",
        "import plotly.graph_objs as go\n",
        "init_notebook_mode(connected = True)\n",
        "from sklearn.base import TransformerMixin\n",
        "%time\n",
        "\n",
        "from sklearn.impute import KNNImputer as knn_impute\n"
      ],
      "execution_count": 0,
      "outputs": [
        {
          "output_type": "display_data",
          "data": {
            "text/html": [
              "        <script type=\"text/javascript\">\n",
              "        window.PlotlyConfig = {MathJaxConfig: 'local'};\n",
              "        if (window.MathJax) {MathJax.Hub.Config({SVG: {font: \"STIX-Web\"}});}\n",
              "        if (typeof require !== 'undefined') {\n",
              "        require.undef(\"plotly\");\n",
              "        requirejs.config({\n",
              "            paths: {\n",
              "                'plotly': ['https://cdn.plot.ly/plotly-latest.min']\n",
              "            }\n",
              "        });\n",
              "        require(['plotly'], function(Plotly) {\n",
              "            window._Plotly = Plotly;\n",
              "        });\n",
              "        }\n",
              "        </script>\n",
              "        "
            ]
          },
          "metadata": {
            "tags": []
          }
        },
        {
          "output_type": "stream",
          "text": [
            "Wall time: 0 ns\n"
          ],
          "name": "stdout"
        }
      ]
    },
    {
      "cell_type": "code",
      "metadata": {
        "id": "bARSIf4o764u",
        "colab_type": "code",
        "colab": {},
        "outputId": "599ea331-82cf-4ea6-a9ae-147e31cfd751"
      },
      "source": [
        "#Importing the two datasets\n",
        "data18=pd.read_csv(r'C:\\Users\\Home\\Documents\\Msc DataScience Semester 2\\DAV\\Datasets\\2018_Dataset.csv')\n",
        "data19=pd.read_csv(r'C:\\Users\\Home\\Documents\\Msc DataScience Semester 2\\DAV\\Datasets\\2019_Dataset.csv')\n",
        "display(print('Dimension of data:', data18.shape))\n",
        "display(print('Dimension of data:', data19.shape))"
      ],
      "execution_count": 0,
      "outputs": [
        {
          "output_type": "stream",
          "text": [
            "C:\\Users\\Home\\Anaconda3\\envs\\venv\\lib\\site-packages\\IPython\\core\\interactiveshell.py:3058: DtypeWarning:\n",
            "\n",
            "Columns (23,35) have mixed types. Specify dtype option on import or set low_memory=False.\n",
            "\n"
          ],
          "name": "stderr"
        },
        {
          "output_type": "stream",
          "text": [
            "Dimension of data: (17981, 75)\n"
          ],
          "name": "stdout"
        },
        {
          "output_type": "display_data",
          "data": {
            "text/plain": [
              "None"
            ]
          },
          "metadata": {
            "tags": []
          }
        },
        {
          "output_type": "stream",
          "text": [
            "Dimension of data: (18207, 89)\n"
          ],
          "name": "stdout"
        },
        {
          "output_type": "display_data",
          "data": {
            "text/plain": [
              "None"
            ]
          },
          "metadata": {
            "tags": []
          }
        }
      ]
    },
    {
      "cell_type": "code",
      "metadata": {
        "id": "CXvcWHZ57642",
        "colab_type": "code",
        "colab": {},
        "outputId": "f79ab7b7-3ee4-4cd6-e159-21b322d56108"
      },
      "source": [
        "data19.columns"
      ],
      "execution_count": 0,
      "outputs": [
        {
          "output_type": "execute_result",
          "data": {
            "text/plain": [
              "Index(['Unnamed: 0', 'ID', 'Name', 'Age', 'Photo', 'Nationality', 'Flag',\n",
              "       'Overall', 'Potential', 'Club', 'Club Logo', 'Value', 'Wage', 'Special',\n",
              "       'Preferred Foot', 'International Reputation', 'Weak Foot',\n",
              "       'Skill Moves', 'Work Rate', 'Body Type', 'Real Face', 'Position',\n",
              "       'Jersey Number', 'Joined', 'Loaned From', 'Contract Valid Until',\n",
              "       'Height', 'Weight', 'LS', 'ST', 'RS', 'LW', 'LF', 'CF', 'RF', 'RW',\n",
              "       'LAM', 'CAM', 'RAM', 'LM', 'LCM', 'CM', 'RCM', 'RM', 'LWB', 'LDM',\n",
              "       'CDM', 'RDM', 'RWB', 'LB', 'LCB', 'CB', 'RCB', 'RB', 'Crossing',\n",
              "       'Finishing', 'HeadingAccuracy', 'ShortPassing', 'Volleys', 'Dribbling',\n",
              "       'Curve', 'FKAccuracy', 'LongPassing', 'BallControl', 'Acceleration',\n",
              "       'SprintSpeed', 'Agility', 'Reactions', 'Balance', 'ShotPower',\n",
              "       'Jumping', 'Stamina', 'Strength', 'LongShots', 'Aggression',\n",
              "       'Interceptions', 'Positioning', 'Vision', 'Penalties', 'Composure',\n",
              "       'Marking', 'StandingTackle', 'SlidingTackle', 'GKDiving', 'GKHandling',\n",
              "       'GKKicking', 'GKPositioning', 'GKReflexes', 'Release Clause'],\n",
              "      dtype='object')"
            ]
          },
          "metadata": {
            "tags": []
          },
          "execution_count": 6
        }
      ]
    },
    {
      "cell_type": "code",
      "metadata": {
        "id": "BPAZzWoV7647",
        "colab_type": "code",
        "colab": {},
        "outputId": "0e281592-6a7b-41c7-aa60-298b01d27ef8"
      },
      "source": [
        "data18.columns"
      ],
      "execution_count": 0,
      "outputs": [
        {
          "output_type": "execute_result",
          "data": {
            "text/plain": [
              "Index(['Unnamed: 0', 'Name', 'Age', 'Photo', 'Nationality', 'Flag', 'Overall',\n",
              "       'Potential', 'Club', 'Club Logo', 'Value', 'Wage', 'Special',\n",
              "       'Acceleration', 'Aggression', 'Agility', 'Balance', 'Ball control',\n",
              "       'Composure', 'Crossing', 'Curve', 'Dribbling', 'Finishing',\n",
              "       'Free kick accuracy', 'GK diving', 'GK handling', 'GK kicking',\n",
              "       'GK positioning', 'GK reflexes', 'Heading accuracy', 'Interceptions',\n",
              "       'Jumping', 'Long passing', 'Long shots', 'Marking', 'Penalties',\n",
              "       'Positioning', 'Reactions', 'Short passing', 'Shot power',\n",
              "       'Sliding tackle', 'Sprint speed', 'Stamina', 'Standing tackle',\n",
              "       'Strength', 'Vision', 'Volleys', 'CAM', 'CB', 'CDM', 'CF', 'CM', 'ID',\n",
              "       'LAM', 'LB', 'LCB', 'LCM', 'LDM', 'LF', 'LM', 'LS', 'LW', 'LWB',\n",
              "       'Preferred Positions', 'RAM', 'RB', 'RCB', 'RCM', 'RDM', 'RF', 'RM',\n",
              "       'RS', 'RW', 'RWB', 'ST'],\n",
              "      dtype='object')"
            ]
          },
          "metadata": {
            "tags": []
          },
          "execution_count": 7
        }
      ]
    },
    {
      "cell_type": "code",
      "metadata": {
        "id": "PaIIMVdg764-",
        "colab_type": "code",
        "colab": {}
      },
      "source": [
        "\"\"\"\"\"First we need to identify different columns available between the two datasets as there are some columns present in the 2018\n",
        "dataset that are not present in the 2019 dataset\"\"\"\n",
        "\n",
        "data18_cols=data18.columns.to_list()\n",
        "data19_cols=data19.columns.to_list()\n",
        "\n",
        "Common_Cols = [x for x in data18_cols if x in data19_cols]\n"
      ],
      "execution_count": 0,
      "outputs": []
    },
    {
      "cell_type": "code",
      "metadata": {
        "id": "95Oj5-8Z765D",
        "colab_type": "code",
        "colab": {}
      },
      "source": [
        "## we then remove all uncommon columns by keeping only columnns present in both dataframes\n",
        "#data18_new = data18[data18.columns.isin(Common_Cols)].reset_index(drop=True)\n",
        "data18_new = data18[data18.columns.intersection(Common_Cols)].reset_index(drop=True)\n",
        "data19_new = data19[data19.columns.intersection(Common_Cols)].reset_index(drop=True)\n"
      ],
      "execution_count": 0,
      "outputs": []
    },
    {
      "cell_type": "code",
      "metadata": {
        "id": "VADAQ_Uj765H",
        "colab_type": "code",
        "colab": {}
      },
      "source": [
        "Value=list(data19_new['Wage'])\n",
        "Wage=list(data19_new['Wage'])"
      ],
      "execution_count": 0,
      "outputs": []
    },
    {
      "cell_type": "code",
      "metadata": {
        "id": "UAyC6TjY765M",
        "colab_type": "code",
        "colab": {},
        "outputId": "1d1d834c-0026-46f8-c8c3-f072fc77d6c3"
      },
      "source": [
        "from scipy.stats import wilcoxon\n",
        "import random\n",
        "\n",
        "Value_18=random.sample(list(data18_new['Value']), 10000)  \n",
        "Value_19=random.sample(list(data18_new['Wage']), 10000)\n",
        "# compare samples\n",
        "stat, p = wilcoxon(Value_18, Value_19)\n",
        "print('Statistics=%.3f, p=%.3f' % (stat, p))\n",
        "# interpret\n",
        "alpha = 0.05\n",
        "if p > alpha:\n",
        "    print('Same distribution (fail to reject H0)')\n",
        "else:\n",
        "    print('Different distribution (reject H0)')"
      ],
      "execution_count": 0,
      "outputs": [
        {
          "output_type": "error",
          "ename": "UFuncTypeError",
          "evalue": "ufunc 'subtract' did not contain a loop with signature matching types (dtype('<U6'), dtype('<U6')) -> dtype('<U6')",
          "traceback": [
            "\u001b[1;31m---------------------------------------------------------------------------\u001b[0m",
            "\u001b[1;31mUFuncTypeError\u001b[0m                            Traceback (most recent call last)",
            "\u001b[1;32m<ipython-input-19-07570a068120>\u001b[0m in \u001b[0;36m<module>\u001b[1;34m\u001b[0m\n\u001b[0;32m      5\u001b[0m \u001b[0mValue_19\u001b[0m\u001b[1;33m=\u001b[0m\u001b[0mrandom\u001b[0m\u001b[1;33m.\u001b[0m\u001b[0msample\u001b[0m\u001b[1;33m(\u001b[0m\u001b[0mlist\u001b[0m\u001b[1;33m(\u001b[0m\u001b[0mdata18_new\u001b[0m\u001b[1;33m[\u001b[0m\u001b[1;34m'Wage'\u001b[0m\u001b[1;33m]\u001b[0m\u001b[1;33m)\u001b[0m\u001b[1;33m,\u001b[0m \u001b[1;36m10000\u001b[0m\u001b[1;33m)\u001b[0m\u001b[1;33m\u001b[0m\u001b[1;33m\u001b[0m\u001b[0m\n\u001b[0;32m      6\u001b[0m \u001b[1;31m# compare samples\u001b[0m\u001b[1;33m\u001b[0m\u001b[1;33m\u001b[0m\u001b[1;33m\u001b[0m\u001b[0m\n\u001b[1;32m----> 7\u001b[1;33m \u001b[0mstat\u001b[0m\u001b[1;33m,\u001b[0m \u001b[0mp\u001b[0m \u001b[1;33m=\u001b[0m \u001b[0mwilcoxon\u001b[0m\u001b[1;33m(\u001b[0m\u001b[0mValue_18\u001b[0m\u001b[1;33m,\u001b[0m \u001b[0mValue_19\u001b[0m\u001b[1;33m)\u001b[0m\u001b[1;33m\u001b[0m\u001b[1;33m\u001b[0m\u001b[0m\n\u001b[0m\u001b[0;32m      8\u001b[0m \u001b[0mprint\u001b[0m\u001b[1;33m(\u001b[0m\u001b[1;34m'Statistics=%.3f, p=%.3f'\u001b[0m \u001b[1;33m%\u001b[0m \u001b[1;33m(\u001b[0m\u001b[0mstat\u001b[0m\u001b[1;33m,\u001b[0m \u001b[0mp\u001b[0m\u001b[1;33m)\u001b[0m\u001b[1;33m)\u001b[0m\u001b[1;33m\u001b[0m\u001b[1;33m\u001b[0m\u001b[0m\n\u001b[0;32m      9\u001b[0m \u001b[1;31m# interpret\u001b[0m\u001b[1;33m\u001b[0m\u001b[1;33m\u001b[0m\u001b[1;33m\u001b[0m\u001b[0m\n",
            "\u001b[1;32m~\\Anaconda3\\envs\\venv\\lib\\site-packages\\scipy\\stats\\morestats.py\u001b[0m in \u001b[0;36mwilcoxon\u001b[1;34m(x, y, zero_method, correction, alternative)\u001b[0m\n\u001b[0;32m   2847\u001b[0m         \u001b[1;32mif\u001b[0m \u001b[0mlen\u001b[0m\u001b[1;33m(\u001b[0m\u001b[0mx\u001b[0m\u001b[1;33m)\u001b[0m \u001b[1;33m!=\u001b[0m \u001b[0mlen\u001b[0m\u001b[1;33m(\u001b[0m\u001b[0my\u001b[0m\u001b[1;33m)\u001b[0m\u001b[1;33m:\u001b[0m\u001b[1;33m\u001b[0m\u001b[1;33m\u001b[0m\u001b[0m\n\u001b[0;32m   2848\u001b[0m             \u001b[1;32mraise\u001b[0m \u001b[0mValueError\u001b[0m\u001b[1;33m(\u001b[0m\u001b[1;34m'The samples x and y must have the same length.'\u001b[0m\u001b[1;33m)\u001b[0m\u001b[1;33m\u001b[0m\u001b[1;33m\u001b[0m\u001b[0m\n\u001b[1;32m-> 2849\u001b[1;33m         \u001b[0md\u001b[0m \u001b[1;33m=\u001b[0m \u001b[0mx\u001b[0m \u001b[1;33m-\u001b[0m \u001b[0my\u001b[0m\u001b[1;33m\u001b[0m\u001b[1;33m\u001b[0m\u001b[0m\n\u001b[0m\u001b[0;32m   2850\u001b[0m \u001b[1;33m\u001b[0m\u001b[0m\n\u001b[0;32m   2851\u001b[0m     \u001b[1;32mif\u001b[0m \u001b[0mzero_method\u001b[0m \u001b[1;32min\u001b[0m \u001b[1;33m[\u001b[0m\u001b[1;34m\"wilcox\"\u001b[0m\u001b[1;33m,\u001b[0m \u001b[1;34m\"pratt\"\u001b[0m\u001b[1;33m]\u001b[0m\u001b[1;33m:\u001b[0m\u001b[1;33m\u001b[0m\u001b[1;33m\u001b[0m\u001b[0m\n",
            "\u001b[1;31mUFuncTypeError\u001b[0m: ufunc 'subtract' did not contain a loop with signature matching types (dtype('<U6'), dtype('<U6')) -> dtype('<U6')"
          ]
        }
      ]
    },
    {
      "cell_type": "code",
      "metadata": {
        "id": "jHlYQA99765R",
        "colab_type": "code",
        "colab": {}
      },
      "source": [
        "#Check the two dataframes to see if they have similar columns\n",
        "data18_cols=data18_new.columns.to_list()\n",
        "data19_cols=data19_new.columns.to_list()\n",
        "Common_Cols = [x for x in data18_cols if x in data19_cols]\n",
        "\n",
        "#Adding the year columns to the data\n",
        "data18_new['Year']='2018'\n",
        "data19_new['Year']='2019'"
      ],
      "execution_count": 0,
      "outputs": []
    },
    {
      "cell_type": "code",
      "metadata": {
        "id": "GbB2HSwP765V",
        "colab_type": "code",
        "colab": {},
        "outputId": "805d146b-5d02-42f3-eb34-0c79a6eb25e7"
      },
      "source": [
        "#Merge both datasets\n",
        "\n",
        "new_df = pd.concat([data19_new, data18_new], ignore_index=True)\n",
        "## we then remove all columns that are not required\n",
        "new_df.drop(['Photo','Flag','Club Logo','Unnamed: 0'], axis=1, inplace=True)\n",
        "#Displaying Data\n",
        "#display(print('Dimension of data:', new_df.shape))"
      ],
      "execution_count": 0,
      "outputs": [
        {
          "output_type": "stream",
          "text": [
            "C:\\Users\\Home\\Anaconda3\\envs\\venv\\lib\\site-packages\\ipykernel_launcher.py:3: FutureWarning:\n",
            "\n",
            "Sorting because non-concatenation axis is not aligned. A future version\n",
            "of pandas will change to not sort by default.\n",
            "\n",
            "To accept the future behavior, pass 'sort=False'.\n",
            "\n",
            "To retain the current behavior and silence the warning, pass 'sort=True'.\n",
            "\n",
            "\n"
          ],
          "name": "stderr"
        }
      ]
    },
    {
      "cell_type": "code",
      "metadata": {
        "id": "5s39TWyc765b",
        "colab_type": "code",
        "colab": {}
      },
      "source": [
        "#Stripping the first character to get the currency for reasonable comparison\n",
        "\n",
        "new_df['Value'] = new_df['Value'].str[1:]\n",
        "new_df['Wage'] = new_df['Wage'].str[1:]\n",
        "#Standardizing value in millions and thousands\n",
        "new_df['Value']=new_df['Value'].replace({'K': '*1e3', 'M': '*1e6'}, regex=True).map(pd.eval).astype(int)\n",
        "new_df['Wage']=new_df['Wage'].replace({'K': '*1e3', 'M': '*1e6'}, regex=True).map(pd.eval).astype(int)"
      ],
      "execution_count": 0,
      "outputs": []
    },
    {
      "cell_type": "code",
      "metadata": {
        "id": "zwlhGlk_765f",
        "colab_type": "code",
        "colab": {}
      },
      "source": [
        "#Wilcoxon Test to check the variation in the two datasets- non-parametric statistical test using an p value of 0.05 (alpha)\n",
        "\n",
        "from scipy.stats import wilcoxon\n",
        "import random\n",
        "\n",
        "\n",
        "\n"
      ],
      "execution_count": 0,
      "outputs": []
    },
    {
      "cell_type": "code",
      "metadata": {
        "id": "bsiknPHn765j",
        "colab_type": "code",
        "colab": {}
      },
      "source": [
        "#Columns Identified as having '+' sign in certain row values and some row decimal values stored as string\n",
        "#The idea here is to replace all the '+' signs and remove the decimal point from the row values as it could then be converted to numeric\n",
        "\n",
        "str_cols = ['Acceleration','Aggression','Agility','Balance','CAM','CB','CDM',\n",
        "'CF','CM','Composure','Crossing','Curve','Dribbling','Finishing','Interceptions',\n",
        "'Jumping','LAM','LB','LCB','LCM','LDM','LF','LM','LS','LW','LWB','Marking','RAM',\n",
        "'RB','RCB','RCM','RDM','RF','RM','RS','RW','RWB','Reactions','ST','Stamina','Positioning','Penalties',\n",
        "'Strength','Vision','Volleys']# specify columns you want to replace\n",
        "\n",
        "new_df[str_cols] = new_df[str_cols].replace('\\+', '', regex=True)\n",
        "\n",
        "\n",
        "\n"
      ],
      "execution_count": 0,
      "outputs": []
    },
    {
      "cell_type": "code",
      "metadata": {
        "id": "Td2AUy5n765n",
        "colab_type": "code",
        "colab": {}
      },
      "source": [
        "new_df1=new_df.sort_values(['Value'], ascending=[False])\n",
        "new_df=new_df1"
      ],
      "execution_count": 0,
      "outputs": []
    },
    {
      "cell_type": "code",
      "metadata": {
        "id": "ev-Bt5-Y765t",
        "colab_type": "code",
        "colab": {},
        "outputId": "294bb59a-db4f-4cda-c121-baeb26d5e280"
      },
      "source": [
        "for col in str_cols:\n",
        "    new_df[col] = new_df[col].str[:2].fillna(0)\n",
        "    new_df[col] = int(str(new_df[col]))\n",
        "    new_df[col]= new_df[col].replace(to_replace=0, method='ffill')\n",
        "    "
      ],
      "execution_count": 0,
      "outputs": [
        {
          "output_type": "error",
          "ename": "NameError",
          "evalue": "name 'str_cols' is not defined",
          "traceback": [
            "\u001b[1;31m---------------------------------------------------------------------------\u001b[0m",
            "\u001b[1;31mNameError\u001b[0m                                 Traceback (most recent call last)",
            "\u001b[1;32m<ipython-input-7-d67bacc64346>\u001b[0m in \u001b[0;36m<module>\u001b[1;34m\u001b[0m\n\u001b[1;32m----> 1\u001b[1;33m \u001b[1;32mfor\u001b[0m \u001b[0mcol\u001b[0m \u001b[1;32min\u001b[0m \u001b[0mstr_cols\u001b[0m\u001b[1;33m:\u001b[0m\u001b[1;33m\u001b[0m\u001b[1;33m\u001b[0m\u001b[0m\n\u001b[0m\u001b[0;32m      2\u001b[0m     \u001b[0mnew_df\u001b[0m\u001b[1;33m[\u001b[0m\u001b[0mcol\u001b[0m\u001b[1;33m]\u001b[0m \u001b[1;33m=\u001b[0m \u001b[0mnew_df\u001b[0m\u001b[1;33m[\u001b[0m\u001b[0mcol\u001b[0m\u001b[1;33m]\u001b[0m\u001b[1;33m.\u001b[0m\u001b[0mstr\u001b[0m\u001b[1;33m[\u001b[0m\u001b[1;33m:\u001b[0m\u001b[1;36m2\u001b[0m\u001b[1;33m]\u001b[0m\u001b[1;33m.\u001b[0m\u001b[0mfillna\u001b[0m\u001b[1;33m(\u001b[0m\u001b[1;36m0\u001b[0m\u001b[1;33m)\u001b[0m\u001b[1;33m\u001b[0m\u001b[1;33m\u001b[0m\u001b[0m\n\u001b[0;32m      3\u001b[0m     \u001b[0mnew_df\u001b[0m\u001b[1;33m[\u001b[0m\u001b[0mcol\u001b[0m\u001b[1;33m]\u001b[0m \u001b[1;33m=\u001b[0m \u001b[0mint\u001b[0m\u001b[1;33m(\u001b[0m\u001b[0mstr\u001b[0m\u001b[1;33m(\u001b[0m\u001b[0mnew_df\u001b[0m\u001b[1;33m[\u001b[0m\u001b[0mcol\u001b[0m\u001b[1;33m]\u001b[0m\u001b[1;33m)\u001b[0m\u001b[1;33m)\u001b[0m\u001b[1;33m\u001b[0m\u001b[1;33m\u001b[0m\u001b[0m\n\u001b[0;32m      4\u001b[0m     \u001b[0mnew_df\u001b[0m\u001b[1;33m[\u001b[0m\u001b[0mcol\u001b[0m\u001b[1;33m]\u001b[0m\u001b[1;33m=\u001b[0m \u001b[0mnew_df\u001b[0m\u001b[1;33m[\u001b[0m\u001b[0mcol\u001b[0m\u001b[1;33m]\u001b[0m\u001b[1;33m.\u001b[0m\u001b[0mreplace\u001b[0m\u001b[1;33m(\u001b[0m\u001b[0mto_replace\u001b[0m\u001b[1;33m=\u001b[0m\u001b[1;36m0\u001b[0m\u001b[1;33m,\u001b[0m \u001b[0mmethod\u001b[0m\u001b[1;33m=\u001b[0m\u001b[1;34m'ffill'\u001b[0m\u001b[1;33m)\u001b[0m\u001b[1;33m\u001b[0m\u001b[1;33m\u001b[0m\u001b[0m\n\u001b[0;32m      5\u001b[0m \u001b[1;33m\u001b[0m\u001b[0m\n",
            "\u001b[1;31mNameError\u001b[0m: name 'str_cols' is not defined"
          ]
        }
      ]
    },
    {
      "cell_type": "code",
      "metadata": {
        "id": "Ate7E31E765x",
        "colab_type": "code",
        "colab": {},
        "outputId": "a7985b4d-4633-4be7-f135-83bd39c017a9"
      },
      "source": [
        "'''Describing the data'''\n",
        "new_df.describe()"
      ],
      "execution_count": 0,
      "outputs": [
        {
          "output_type": "execute_result",
          "data": {
            "text/html": [
              "<div>\n",
              "<style scoped>\n",
              "    .dataframe tbody tr th:only-of-type {\n",
              "        vertical-align: middle;\n",
              "    }\n",
              "\n",
              "    .dataframe tbody tr th {\n",
              "        vertical-align: top;\n",
              "    }\n",
              "\n",
              "    .dataframe thead th {\n",
              "        text-align: right;\n",
              "    }\n",
              "</style>\n",
              "<table border=\"1\" class=\"dataframe\">\n",
              "  <thead>\n",
              "    <tr style=\"text-align: right;\">\n",
              "      <th></th>\n",
              "      <th>Acceleration</th>\n",
              "      <th>Age</th>\n",
              "      <th>Aggression</th>\n",
              "      <th>Agility</th>\n",
              "      <th>Balance</th>\n",
              "      <th>CAM</th>\n",
              "      <th>CB</th>\n",
              "      <th>CDM</th>\n",
              "      <th>CF</th>\n",
              "      <th>CM</th>\n",
              "      <th>...</th>\n",
              "      <th>RWB</th>\n",
              "      <th>Reactions</th>\n",
              "      <th>ST</th>\n",
              "      <th>Special</th>\n",
              "      <th>Stamina</th>\n",
              "      <th>Strength</th>\n",
              "      <th>Value</th>\n",
              "      <th>Vision</th>\n",
              "      <th>Volleys</th>\n",
              "      <th>Wage</th>\n",
              "    </tr>\n",
              "  </thead>\n",
              "  <tbody>\n",
              "    <tr>\n",
              "      <th>count</th>\n",
              "      <td>36188.000000</td>\n",
              "      <td>36188.000000</td>\n",
              "      <td>36188.000000</td>\n",
              "      <td>36188.000000</td>\n",
              "      <td>36188.000000</td>\n",
              "      <td>36188.000000</td>\n",
              "      <td>36188.000000</td>\n",
              "      <td>36188.000000</td>\n",
              "      <td>36188.000000</td>\n",
              "      <td>36188.000000</td>\n",
              "      <td>...</td>\n",
              "      <td>36188.000000</td>\n",
              "      <td>36188.000000</td>\n",
              "      <td>36188.000000</td>\n",
              "      <td>36188.000000</td>\n",
              "      <td>36188.000000</td>\n",
              "      <td>36188.000000</td>\n",
              "      <td>3.618800e+04</td>\n",
              "      <td>36188.000000</td>\n",
              "      <td>36188.000000</td>\n",
              "      <td>36188.000000</td>\n",
              "    </tr>\n",
              "    <tr>\n",
              "      <th>mean</th>\n",
              "      <td>64.385901</td>\n",
              "      <td>25.133304</td>\n",
              "      <td>55.794462</td>\n",
              "      <td>63.334227</td>\n",
              "      <td>63.818089</td>\n",
              "      <td>58.542666</td>\n",
              "      <td>55.836880</td>\n",
              "      <td>56.880596</td>\n",
              "      <td>58.255831</td>\n",
              "      <td>57.959738</td>\n",
              "      <td>...</td>\n",
              "      <td>57.456781</td>\n",
              "      <td>61.965679</td>\n",
              "      <td>57.410854</td>\n",
              "      <td>1595.964104</td>\n",
              "      <td>63.069443</td>\n",
              "      <td>65.352879</td>\n",
              "      <td>2.398122e+06</td>\n",
              "      <td>53.135570</td>\n",
              "      <td>43.376147</td>\n",
              "      <td>10633.469658</td>\n",
              "    </tr>\n",
              "    <tr>\n",
              "      <th>std</th>\n",
              "      <td>14.989607</td>\n",
              "      <td>4.642314</td>\n",
              "      <td>17.456189</td>\n",
              "      <td>14.774368</td>\n",
              "      <td>14.083879</td>\n",
              "      <td>9.866908</td>\n",
              "      <td>11.520853</td>\n",
              "      <td>9.946738</td>\n",
              "      <td>9.932042</td>\n",
              "      <td>8.854214</td>\n",
              "      <td>...</td>\n",
              "      <td>8.854616</td>\n",
              "      <td>9.148703</td>\n",
              "      <td>9.209093</td>\n",
              "      <td>272.372739</td>\n",
              "      <td>15.919220</td>\n",
              "      <td>12.533440</td>\n",
              "      <td>5.476468e+06</td>\n",
              "      <td>14.402451</td>\n",
              "      <td>17.685842</td>\n",
              "      <td>22560.708250</td>\n",
              "    </tr>\n",
              "    <tr>\n",
              "      <th>min</th>\n",
              "      <td>11.000000</td>\n",
              "      <td>16.000000</td>\n",
              "      <td>11.000000</td>\n",
              "      <td>14.000000</td>\n",
              "      <td>11.000000</td>\n",
              "      <td>0.000000</td>\n",
              "      <td>0.000000</td>\n",
              "      <td>0.000000</td>\n",
              "      <td>0.000000</td>\n",
              "      <td>0.000000</td>\n",
              "      <td>...</td>\n",
              "      <td>0.000000</td>\n",
              "      <td>28.000000</td>\n",
              "      <td>0.000000</td>\n",
              "      <td>728.000000</td>\n",
              "      <td>12.000000</td>\n",
              "      <td>12.000000</td>\n",
              "      <td>0.000000e+00</td>\n",
              "      <td>10.000000</td>\n",
              "      <td>4.000000</td>\n",
              "      <td>0.000000</td>\n",
              "    </tr>\n",
              "    <tr>\n",
              "      <th>25%</th>\n",
              "      <td>56.000000</td>\n",
              "      <td>21.000000</td>\n",
              "      <td>43.000000</td>\n",
              "      <td>55.000000</td>\n",
              "      <td>56.000000</td>\n",
              "      <td>53.000000</td>\n",
              "      <td>47.000000</td>\n",
              "      <td>50.000000</td>\n",
              "      <td>52.000000</td>\n",
              "      <td>52.000000</td>\n",
              "      <td>...</td>\n",
              "      <td>51.000000</td>\n",
              "      <td>56.000000</td>\n",
              "      <td>51.000000</td>\n",
              "      <td>1453.000000</td>\n",
              "      <td>56.000000</td>\n",
              "      <td>58.000000</td>\n",
              "      <td>3.000000e+05</td>\n",
              "      <td>43.000000</td>\n",
              "      <td>30.000000</td>\n",
              "      <td>1000.000000</td>\n",
              "    </tr>\n",
              "    <tr>\n",
              "      <th>50%</th>\n",
              "      <td>67.000000</td>\n",
              "      <td>25.000000</td>\n",
              "      <td>59.000000</td>\n",
              "      <td>65.000000</td>\n",
              "      <td>66.000000</td>\n",
              "      <td>59.000000</td>\n",
              "      <td>57.000000</td>\n",
              "      <td>58.000000</td>\n",
              "      <td>59.000000</td>\n",
              "      <td>58.000000</td>\n",
              "      <td>...</td>\n",
              "      <td>58.000000</td>\n",
              "      <td>62.000000</td>\n",
              "      <td>58.000000</td>\n",
              "      <td>1634.000000</td>\n",
              "      <td>66.000000</td>\n",
              "      <td>66.000000</td>\n",
              "      <td>6.750000e+05</td>\n",
              "      <td>55.000000</td>\n",
              "      <td>45.000000</td>\n",
              "      <td>4000.000000</td>\n",
              "    </tr>\n",
              "    <tr>\n",
              "      <th>75%</th>\n",
              "      <td>75.000000</td>\n",
              "      <td>28.000000</td>\n",
              "      <td>69.000000</td>\n",
              "      <td>74.000000</td>\n",
              "      <td>74.000000</td>\n",
              "      <td>66.000000</td>\n",
              "      <td>65.000000</td>\n",
              "      <td>64.000000</td>\n",
              "      <td>65.000000</td>\n",
              "      <td>64.000000</td>\n",
              "      <td>...</td>\n",
              "      <td>64.000000</td>\n",
              "      <td>68.000000</td>\n",
              "      <td>64.000000</td>\n",
              "      <td>1786.000000</td>\n",
              "      <td>74.000000</td>\n",
              "      <td>74.000000</td>\n",
              "      <td>2.000000e+06</td>\n",
              "      <td>64.000000</td>\n",
              "      <td>57.000000</td>\n",
              "      <td>10000.000000</td>\n",
              "    </tr>\n",
              "    <tr>\n",
              "      <th>max</th>\n",
              "      <td>96.000000</td>\n",
              "      <td>47.000000</td>\n",
              "      <td>96.000000</td>\n",
              "      <td>96.000000</td>\n",
              "      <td>96.000000</td>\n",
              "      <td>93.000000</td>\n",
              "      <td>87.000000</td>\n",
              "      <td>87.000000</td>\n",
              "      <td>93.000000</td>\n",
              "      <td>88.000000</td>\n",
              "      <td>...</td>\n",
              "      <td>85.000000</td>\n",
              "      <td>96.000000</td>\n",
              "      <td>91.000000</td>\n",
              "      <td>2346.000000</td>\n",
              "      <td>95.000000</td>\n",
              "      <td>98.000000</td>\n",
              "      <td>1.230000e+08</td>\n",
              "      <td>94.000000</td>\n",
              "      <td>91.000000</td>\n",
              "      <td>565000.000000</td>\n",
              "    </tr>\n",
              "  </tbody>\n",
              "</table>\n",
              "<p>8 rows × 52 columns</p>\n",
              "</div>"
            ],
            "text/plain": [
              "       Acceleration           Age    Aggression       Agility       Balance  \\\n",
              "count  36188.000000  36188.000000  36188.000000  36188.000000  36188.000000   \n",
              "mean      64.385901     25.133304     55.794462     63.334227     63.818089   \n",
              "std       14.989607      4.642314     17.456189     14.774368     14.083879   \n",
              "min       11.000000     16.000000     11.000000     14.000000     11.000000   \n",
              "25%       56.000000     21.000000     43.000000     55.000000     56.000000   \n",
              "50%       67.000000     25.000000     59.000000     65.000000     66.000000   \n",
              "75%       75.000000     28.000000     69.000000     74.000000     74.000000   \n",
              "max       96.000000     47.000000     96.000000     96.000000     96.000000   \n",
              "\n",
              "                CAM            CB           CDM            CF            CM  \\\n",
              "count  36188.000000  36188.000000  36188.000000  36188.000000  36188.000000   \n",
              "mean      58.542666     55.836880     56.880596     58.255831     57.959738   \n",
              "std        9.866908     11.520853      9.946738      9.932042      8.854214   \n",
              "min        0.000000      0.000000      0.000000      0.000000      0.000000   \n",
              "25%       53.000000     47.000000     50.000000     52.000000     52.000000   \n",
              "50%       59.000000     57.000000     58.000000     59.000000     58.000000   \n",
              "75%       66.000000     65.000000     64.000000     65.000000     64.000000   \n",
              "max       93.000000     87.000000     87.000000     93.000000     88.000000   \n",
              "\n",
              "       ...           RWB     Reactions            ST       Special  \\\n",
              "count  ...  36188.000000  36188.000000  36188.000000  36188.000000   \n",
              "mean   ...     57.456781     61.965679     57.410854   1595.964104   \n",
              "std    ...      8.854616      9.148703      9.209093    272.372739   \n",
              "min    ...      0.000000     28.000000      0.000000    728.000000   \n",
              "25%    ...     51.000000     56.000000     51.000000   1453.000000   \n",
              "50%    ...     58.000000     62.000000     58.000000   1634.000000   \n",
              "75%    ...     64.000000     68.000000     64.000000   1786.000000   \n",
              "max    ...     85.000000     96.000000     91.000000   2346.000000   \n",
              "\n",
              "            Stamina      Strength         Value        Vision       Volleys  \\\n",
              "count  36188.000000  36188.000000  3.618800e+04  36188.000000  36188.000000   \n",
              "mean      63.069443     65.352879  2.398122e+06     53.135570     43.376147   \n",
              "std       15.919220     12.533440  5.476468e+06     14.402451     17.685842   \n",
              "min       12.000000     12.000000  0.000000e+00     10.000000      4.000000   \n",
              "25%       56.000000     58.000000  3.000000e+05     43.000000     30.000000   \n",
              "50%       66.000000     66.000000  6.750000e+05     55.000000     45.000000   \n",
              "75%       74.000000     74.000000  2.000000e+06     64.000000     57.000000   \n",
              "max       95.000000     98.000000  1.230000e+08     94.000000     91.000000   \n",
              "\n",
              "                Wage  \n",
              "count   36188.000000  \n",
              "mean    10633.469658  \n",
              "std     22560.708250  \n",
              "min         0.000000  \n",
              "25%      1000.000000  \n",
              "50%      4000.000000  \n",
              "75%     10000.000000  \n",
              "max    565000.000000  \n",
              "\n",
              "[8 rows x 52 columns]"
            ]
          },
          "metadata": {
            "tags": []
          },
          "execution_count": 153
        }
      ]
    },
    {
      "cell_type": "code",
      "metadata": {
        "id": "TqinbMYW7651",
        "colab_type": "code",
        "colab": {},
        "outputId": "229dd6dc-12c8-403c-8c79-567933c6b524"
      },
      "source": [
        "#Info about dtype\n",
        "#new_df.info()\n",
        "new_df.Age.unique()"
      ],
      "execution_count": 0,
      "outputs": [
        {
          "output_type": "execute_result",
          "data": {
            "text/plain": [
              "array([25, 26, 31, 30, 27, 32, 28, 24, 19, 23, 33, 29, 22, 21, 18, 20, 35,\n",
              "       34, 17, 36, 37, 39, 38, 40, 16, 45, 44, 41, 42, 43, 47],\n",
              "      dtype=int64)"
            ]
          },
          "metadata": {
            "tags": []
          },
          "execution_count": 165
        }
      ]
    },
    {
      "cell_type": "code",
      "metadata": {
        "id": "uxpN0RNr7656",
        "colab_type": "code",
        "colab": {},
        "outputId": "e5ce870c-fbf4-4d1e-e175-be318febc9eb"
      },
      "source": [
        "new_df.Overall.unique()"
      ],
      "execution_count": 0,
      "outputs": [
        {
          "output_type": "execute_result",
          "data": {
            "text/plain": [
              "array([94, 92, 91, 90, 89, 88, 87, 86, 85, 84, 83, 82, 81, 80, 79, 78, 77,\n",
              "       76, 75, 74, 73, 72, 71, 70, 69, 68, 67, 66, 65, 64, 63, 62, 61, 60,\n",
              "       59, 58, 57, 56, 55, 54, 53, 52, 51, 50, 49, 48, 47, 46, 93],\n",
              "      dtype=int64)"
            ]
          },
          "metadata": {
            "tags": []
          },
          "execution_count": 134
        }
      ]
    },
    {
      "cell_type": "code",
      "metadata": {
        "id": "BcBOD5Qm766C",
        "colab_type": "code",
        "colab": {}
      },
      "source": [
        "A=[]\n",
        "B=[]\n",
        "\n",
        "for col in new_df:\n",
        "    A.append(col)\n",
        "    B.append(new_df[col].unique())\n",
        "    \n",
        "Unique_summary = pd.DataFrame(\n",
        "    {'Column_Name': A,\n",
        "     'Unique_Values': B\n",
        "    })\n"
      ],
      "execution_count": 0,
      "outputs": []
    },
    {
      "cell_type": "code",
      "metadata": {
        "id": "U8vyxzLo766H",
        "colab_type": "code",
        "colab": {}
      },
      "source": [
        "# return the transpose \n",
        "Unique_summary_T = Unique_summary.transpose() \n",
        "Unique_summary.to_csv(r'C:\\Users\\Home\\Documents\\Msc DataScience Semester 2\\DAV\\Unique_summary.csv')"
      ],
      "execution_count": 0,
      "outputs": []
    }
  ]
}